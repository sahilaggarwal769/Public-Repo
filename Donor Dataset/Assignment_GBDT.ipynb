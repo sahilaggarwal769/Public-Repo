{
 "cells": [
  {
   "cell_type": "markdown",
   "metadata": {
    "colab_type": "text",
    "id": "8wqapAXjsc24"
   },
   "source": [
    "# Assignment 9: GBDT"
   ]
  },
  {
   "cell_type": "markdown",
   "metadata": {
    "colab_type": "text",
    "id": "8u5NhbnEsc2-"
   },
   "source": [
    "#### Response Coding: Example"
   ]
  },
  {
   "cell_type": "code",
   "execution_count": 207,
   "metadata": {
    "colab": {},
    "colab_type": "code",
    "id": "iffa2_WGsc3H",
    "outputId": "151fc2d5-3bc1-4206-9bd2-000dbf662b31"
   },
   "outputs": [
    {
     "name": "stdout",
     "output_type": "stream",
     "text": [
      "sentiment score for sentence 1 {'neg': 0.0, 'neu': 0.213, 'pos': 0.787, 'compound': 0.5719}\n",
      "sentiment score for sentence 2 {'neg': 0.756, 'neu': 0.244, 'pos': 0.0, 'compound': -0.4767}\n",
      "sentiment score for sentence 3 {'neg': 0.0, 'neu': 1.0, 'pos': 0.0, 'compound': 0.0}\n"
     ]
    }
   ],
   "source": [
    "import nltk\n",
    "from nltk.sentiment.vader import SentimentIntensityAnalyzer\n",
    "# import nltk\n",
    "# nltk.download('vader_lexicon')\n",
    "\n",
    "sid = SentimentIntensityAnalyzer()\n",
    "\n",
    "sample_sentence_1='I am happy.'\n",
    "ss_1 = sid.polarity_scores(sample_sentence_1)\n",
    "print('sentiment score for sentence 1',ss_1)\n",
    "\n",
    "sample_sentence_2='I am sad.'\n",
    "ss_2 = sid.polarity_scores(sample_sentence_2)\n",
    "print('sentiment score for sentence 2',ss_2)\n",
    "\n",
    "sample_sentence_3='I am going to New Delhi tommorow.'\n",
    "ss_3 = sid.polarity_scores(sample_sentence_3)\n",
    "print('sentiment score for sentence 3',ss_3)\n"
   ]
  },
  {
   "cell_type": "markdown",
   "metadata": {
    "colab_type": "text",
    "id": "BOyTl7oKsc3W"
   },
   "source": [
    "<h1>1. GBDT (xgboost/lightgbm) </h1>"
   ]
  },
  {
   "cell_type": "markdown",
   "metadata": {
    "colab_type": "text",
    "id": "VWge-b2Zsc3Z"
   },
   "source": [
    "## 1.1 Loading Data"
   ]
  },
  {
   "cell_type": "code",
   "execution_count": 212,
   "metadata": {
    "colab": {},
    "colab_type": "code",
    "id": "WDZFu6-usc3d"
   },
   "outputs": [],
   "source": [
    "import pandas\n",
    "import warnings\n",
    "warnings.filterwarnings('ignore')\n",
    "data = pandas.read_csv('preprocessed_data.csv',nrows=35000)"
   ]
  },
  {
   "cell_type": "code",
   "execution_count": 213,
   "metadata": {},
   "outputs": [
    {
     "data": {
      "text/html": [
       "<div>\n",
       "<style scoped>\n",
       "    .dataframe tbody tr th:only-of-type {\n",
       "        vertical-align: middle;\n",
       "    }\n",
       "\n",
       "    .dataframe tbody tr th {\n",
       "        vertical-align: top;\n",
       "    }\n",
       "\n",
       "    .dataframe thead th {\n",
       "        text-align: right;\n",
       "    }\n",
       "</style>\n",
       "<table border=\"1\" class=\"dataframe\">\n",
       "  <thead>\n",
       "    <tr style=\"text-align: right;\">\n",
       "      <th></th>\n",
       "      <th>school_state</th>\n",
       "      <th>teacher_prefix</th>\n",
       "      <th>project_grade_category</th>\n",
       "      <th>teacher_number_of_previously_posted_projects</th>\n",
       "      <th>project_is_approved</th>\n",
       "      <th>clean_categories</th>\n",
       "      <th>clean_subcategories</th>\n",
       "      <th>essay</th>\n",
       "      <th>price</th>\n",
       "    </tr>\n",
       "  </thead>\n",
       "  <tbody>\n",
       "    <tr>\n",
       "      <th>0</th>\n",
       "      <td>ca</td>\n",
       "      <td>mrs</td>\n",
       "      <td>grades_prek_2</td>\n",
       "      <td>53</td>\n",
       "      <td>1</td>\n",
       "      <td>math_science</td>\n",
       "      <td>appliedsciences health_lifescience</td>\n",
       "      <td>i fortunate enough use fairy tale stem kits cl...</td>\n",
       "      <td>725.05</td>\n",
       "    </tr>\n",
       "    <tr>\n",
       "      <th>1</th>\n",
       "      <td>ut</td>\n",
       "      <td>ms</td>\n",
       "      <td>grades_3_5</td>\n",
       "      <td>4</td>\n",
       "      <td>1</td>\n",
       "      <td>specialneeds</td>\n",
       "      <td>specialneeds</td>\n",
       "      <td>imagine 8 9 years old you third grade classroo...</td>\n",
       "      <td>213.03</td>\n",
       "    </tr>\n",
       "    <tr>\n",
       "      <th>2</th>\n",
       "      <td>ca</td>\n",
       "      <td>mrs</td>\n",
       "      <td>grades_prek_2</td>\n",
       "      <td>10</td>\n",
       "      <td>1</td>\n",
       "      <td>literacy_language</td>\n",
       "      <td>literacy</td>\n",
       "      <td>having class 24 students comes diverse learner...</td>\n",
       "      <td>329.00</td>\n",
       "    </tr>\n",
       "    <tr>\n",
       "      <th>3</th>\n",
       "      <td>ga</td>\n",
       "      <td>mrs</td>\n",
       "      <td>grades_prek_2</td>\n",
       "      <td>2</td>\n",
       "      <td>1</td>\n",
       "      <td>appliedlearning</td>\n",
       "      <td>earlydevelopment</td>\n",
       "      <td>i recently read article giving students choice...</td>\n",
       "      <td>481.04</td>\n",
       "    </tr>\n",
       "    <tr>\n",
       "      <th>4</th>\n",
       "      <td>wa</td>\n",
       "      <td>mrs</td>\n",
       "      <td>grades_3_5</td>\n",
       "      <td>2</td>\n",
       "      <td>1</td>\n",
       "      <td>literacy_language</td>\n",
       "      <td>literacy</td>\n",
       "      <td>my students crave challenge eat obstacles brea...</td>\n",
       "      <td>17.74</td>\n",
       "    </tr>\n",
       "  </tbody>\n",
       "</table>\n",
       "</div>"
      ],
      "text/plain": [
       "  school_state teacher_prefix project_grade_category  \\\n",
       "0           ca            mrs          grades_prek_2   \n",
       "1           ut             ms             grades_3_5   \n",
       "2           ca            mrs          grades_prek_2   \n",
       "3           ga            mrs          grades_prek_2   \n",
       "4           wa            mrs             grades_3_5   \n",
       "\n",
       "   teacher_number_of_previously_posted_projects  project_is_approved  \\\n",
       "0                                            53                    1   \n",
       "1                                             4                    1   \n",
       "2                                            10                    1   \n",
       "3                                             2                    1   \n",
       "4                                             2                    1   \n",
       "\n",
       "    clean_categories                 clean_subcategories  \\\n",
       "0       math_science  appliedsciences health_lifescience   \n",
       "1       specialneeds                        specialneeds   \n",
       "2  literacy_language                            literacy   \n",
       "3    appliedlearning                    earlydevelopment   \n",
       "4  literacy_language                            literacy   \n",
       "\n",
       "                                               essay   price  \n",
       "0  i fortunate enough use fairy tale stem kits cl...  725.05  \n",
       "1  imagine 8 9 years old you third grade classroo...  213.03  \n",
       "2  having class 24 students comes diverse learner...  329.00  \n",
       "3  i recently read article giving students choice...  481.04  \n",
       "4  my students crave challenge eat obstacles brea...   17.74  "
      ]
     },
     "execution_count": 213,
     "metadata": {},
     "output_type": "execute_result"
    }
   ],
   "source": [
    "data.head(5)"
   ]
  },
  {
   "cell_type": "code",
   "execution_count": 214,
   "metadata": {},
   "outputs": [
    {
     "data": {
      "text/plain": [
       "1    29629\n",
       "0     5371\n",
       "Name: project_is_approved, dtype: int64"
      ]
     },
     "execution_count": 214,
     "metadata": {},
     "output_type": "execute_result"
    }
   ],
   "source": [
    "data['project_is_approved'].value_counts()"
   ]
  },
  {
   "cell_type": "markdown",
   "metadata": {},
   "source": [
    "## 1. calculate sentiment scores for the essay feature"
   ]
  },
  {
   "cell_type": "code",
   "execution_count": 215,
   "metadata": {},
   "outputs": [
    {
     "name": "stderr",
     "output_type": "stream",
     "text": [
      "100%|███████████████████████████████████████████████████████████████████████████| 35000/35000 [02:43<00:00, 214.05it/s]\n"
     ]
    }
   ],
   "source": [
    "import nltk\n",
    "from nltk.sentiment.vader import SentimentIntensityAnalyzer\n",
    "from tqdm import tqdm\n",
    "sid = SentimentIntensityAnalyzer()\n",
    "\n",
    "neg=[]\n",
    "pos=[]\n",
    "neu=[]\n",
    "compound=[]\n",
    "\n",
    "for i in tqdm(data['essay'].values):\n",
    "    ss=sid.polarity_scores(i)\n",
    "    neg.append(ss['neg'])\n",
    "    pos.append(ss['pos'])\n",
    "    neu.append(ss['neu'])\n",
    "    compound.append(ss['compound'])"
   ]
  },
  {
   "cell_type": "code",
   "execution_count": 216,
   "metadata": {},
   "outputs": [
    {
     "data": {
      "text/html": [
       "<div>\n",
       "<style scoped>\n",
       "    .dataframe tbody tr th:only-of-type {\n",
       "        vertical-align: middle;\n",
       "    }\n",
       "\n",
       "    .dataframe tbody tr th {\n",
       "        vertical-align: top;\n",
       "    }\n",
       "\n",
       "    .dataframe thead th {\n",
       "        text-align: right;\n",
       "    }\n",
       "</style>\n",
       "<table border=\"1\" class=\"dataframe\">\n",
       "  <thead>\n",
       "    <tr style=\"text-align: right;\">\n",
       "      <th></th>\n",
       "      <th>school_state</th>\n",
       "      <th>teacher_prefix</th>\n",
       "      <th>project_grade_category</th>\n",
       "      <th>teacher_number_of_previously_posted_projects</th>\n",
       "      <th>project_is_approved</th>\n",
       "      <th>clean_categories</th>\n",
       "      <th>clean_subcategories</th>\n",
       "      <th>essay</th>\n",
       "      <th>price</th>\n",
       "      <th>negative_sentiment_value</th>\n",
       "      <th>positive_sentiment_value</th>\n",
       "      <th>neutral_sentiment_value</th>\n",
       "      <th>compound_sentiment_value</th>\n",
       "    </tr>\n",
       "  </thead>\n",
       "  <tbody>\n",
       "    <tr>\n",
       "      <th>0</th>\n",
       "      <td>ca</td>\n",
       "      <td>mrs</td>\n",
       "      <td>grades_prek_2</td>\n",
       "      <td>53</td>\n",
       "      <td>1</td>\n",
       "      <td>math_science</td>\n",
       "      <td>appliedsciences health_lifescience</td>\n",
       "      <td>i fortunate enough use fairy tale stem kits cl...</td>\n",
       "      <td>725.05</td>\n",
       "      <td>0.013</td>\n",
       "      <td>0.205</td>\n",
       "      <td>0.783</td>\n",
       "      <td>0.9867</td>\n",
       "    </tr>\n",
       "    <tr>\n",
       "      <th>1</th>\n",
       "      <td>ut</td>\n",
       "      <td>ms</td>\n",
       "      <td>grades_3_5</td>\n",
       "      <td>4</td>\n",
       "      <td>1</td>\n",
       "      <td>specialneeds</td>\n",
       "      <td>specialneeds</td>\n",
       "      <td>imagine 8 9 years old you third grade classroo...</td>\n",
       "      <td>213.03</td>\n",
       "      <td>0.072</td>\n",
       "      <td>0.248</td>\n",
       "      <td>0.680</td>\n",
       "      <td>0.9897</td>\n",
       "    </tr>\n",
       "    <tr>\n",
       "      <th>2</th>\n",
       "      <td>ca</td>\n",
       "      <td>mrs</td>\n",
       "      <td>grades_prek_2</td>\n",
       "      <td>10</td>\n",
       "      <td>1</td>\n",
       "      <td>literacy_language</td>\n",
       "      <td>literacy</td>\n",
       "      <td>having class 24 students comes diverse learner...</td>\n",
       "      <td>329.00</td>\n",
       "      <td>0.017</td>\n",
       "      <td>0.262</td>\n",
       "      <td>0.721</td>\n",
       "      <td>0.9860</td>\n",
       "    </tr>\n",
       "    <tr>\n",
       "      <th>3</th>\n",
       "      <td>ga</td>\n",
       "      <td>mrs</td>\n",
       "      <td>grades_prek_2</td>\n",
       "      <td>2</td>\n",
       "      <td>1</td>\n",
       "      <td>appliedlearning</td>\n",
       "      <td>earlydevelopment</td>\n",
       "      <td>i recently read article giving students choice...</td>\n",
       "      <td>481.04</td>\n",
       "      <td>0.030</td>\n",
       "      <td>0.187</td>\n",
       "      <td>0.783</td>\n",
       "      <td>0.9524</td>\n",
       "    </tr>\n",
       "    <tr>\n",
       "      <th>4</th>\n",
       "      <td>wa</td>\n",
       "      <td>mrs</td>\n",
       "      <td>grades_3_5</td>\n",
       "      <td>2</td>\n",
       "      <td>1</td>\n",
       "      <td>literacy_language</td>\n",
       "      <td>literacy</td>\n",
       "      <td>my students crave challenge eat obstacles brea...</td>\n",
       "      <td>17.74</td>\n",
       "      <td>0.029</td>\n",
       "      <td>0.288</td>\n",
       "      <td>0.683</td>\n",
       "      <td>0.9873</td>\n",
       "    </tr>\n",
       "  </tbody>\n",
       "</table>\n",
       "</div>"
      ],
      "text/plain": [
       "  school_state teacher_prefix project_grade_category  \\\n",
       "0           ca            mrs          grades_prek_2   \n",
       "1           ut             ms             grades_3_5   \n",
       "2           ca            mrs          grades_prek_2   \n",
       "3           ga            mrs          grades_prek_2   \n",
       "4           wa            mrs             grades_3_5   \n",
       "\n",
       "   teacher_number_of_previously_posted_projects  project_is_approved  \\\n",
       "0                                            53                    1   \n",
       "1                                             4                    1   \n",
       "2                                            10                    1   \n",
       "3                                             2                    1   \n",
       "4                                             2                    1   \n",
       "\n",
       "    clean_categories                 clean_subcategories  \\\n",
       "0       math_science  appliedsciences health_lifescience   \n",
       "1       specialneeds                        specialneeds   \n",
       "2  literacy_language                            literacy   \n",
       "3    appliedlearning                    earlydevelopment   \n",
       "4  literacy_language                            literacy   \n",
       "\n",
       "                                               essay   price  \\\n",
       "0  i fortunate enough use fairy tale stem kits cl...  725.05   \n",
       "1  imagine 8 9 years old you third grade classroo...  213.03   \n",
       "2  having class 24 students comes diverse learner...  329.00   \n",
       "3  i recently read article giving students choice...  481.04   \n",
       "4  my students crave challenge eat obstacles brea...   17.74   \n",
       "\n",
       "   negative_sentiment_value  positive_sentiment_value  \\\n",
       "0                     0.013                     0.205   \n",
       "1                     0.072                     0.248   \n",
       "2                     0.017                     0.262   \n",
       "3                     0.030                     0.187   \n",
       "4                     0.029                     0.288   \n",
       "\n",
       "   neutral_sentiment_value  compound_sentiment_value  \n",
       "0                    0.783                    0.9867  \n",
       "1                    0.680                    0.9897  \n",
       "2                    0.721                    0.9860  \n",
       "3                    0.783                    0.9524  \n",
       "4                    0.683                    0.9873  "
      ]
     },
     "execution_count": 216,
     "metadata": {},
     "output_type": "execute_result"
    }
   ],
   "source": [
    "data['negative_sentiment_value']=neg\n",
    "data['positive_sentiment_value']=pos\n",
    "data['neutral_sentiment_value']=neu\n",
    "data['compound_sentiment_value']=compound\n",
    "\n",
    "data.head(5)"
   ]
  },
  {
   "cell_type": "markdown",
   "metadata": {
    "colab_type": "text",
    "id": "6lAMFKFcsc3j"
   },
   "source": [
    "<h2>1.2 Splitting data into Train and cross validation(or test): Stratified Sampling</h2>"
   ]
  },
  {
   "cell_type": "code",
   "execution_count": 217,
   "metadata": {},
   "outputs": [
    {
     "data": {
      "text/html": [
       "<div>\n",
       "<style scoped>\n",
       "    .dataframe tbody tr th:only-of-type {\n",
       "        vertical-align: middle;\n",
       "    }\n",
       "\n",
       "    .dataframe tbody tr th {\n",
       "        vertical-align: top;\n",
       "    }\n",
       "\n",
       "    .dataframe thead th {\n",
       "        text-align: right;\n",
       "    }\n",
       "</style>\n",
       "<table border=\"1\" class=\"dataframe\">\n",
       "  <thead>\n",
       "    <tr style=\"text-align: right;\">\n",
       "      <th></th>\n",
       "      <th>school_state</th>\n",
       "      <th>teacher_prefix</th>\n",
       "      <th>project_grade_category</th>\n",
       "      <th>teacher_number_of_previously_posted_projects</th>\n",
       "      <th>clean_categories</th>\n",
       "      <th>clean_subcategories</th>\n",
       "      <th>essay</th>\n",
       "      <th>price</th>\n",
       "      <th>negative_sentiment_value</th>\n",
       "      <th>positive_sentiment_value</th>\n",
       "      <th>neutral_sentiment_value</th>\n",
       "      <th>compound_sentiment_value</th>\n",
       "    </tr>\n",
       "  </thead>\n",
       "  <tbody>\n",
       "    <tr>\n",
       "      <th>0</th>\n",
       "      <td>ca</td>\n",
       "      <td>mrs</td>\n",
       "      <td>grades_prek_2</td>\n",
       "      <td>53</td>\n",
       "      <td>math_science</td>\n",
       "      <td>appliedsciences health_lifescience</td>\n",
       "      <td>i fortunate enough use fairy tale stem kits cl...</td>\n",
       "      <td>725.05</td>\n",
       "      <td>0.013</td>\n",
       "      <td>0.205</td>\n",
       "      <td>0.783</td>\n",
       "      <td>0.9867</td>\n",
       "    </tr>\n",
       "  </tbody>\n",
       "</table>\n",
       "</div>"
      ],
      "text/plain": [
       "  school_state teacher_prefix project_grade_category  \\\n",
       "0           ca            mrs          grades_prek_2   \n",
       "\n",
       "   teacher_number_of_previously_posted_projects clean_categories  \\\n",
       "0                                            53     math_science   \n",
       "\n",
       "                  clean_subcategories  \\\n",
       "0  appliedsciences health_lifescience   \n",
       "\n",
       "                                               essay   price  \\\n",
       "0  i fortunate enough use fairy tale stem kits cl...  725.05   \n",
       "\n",
       "   negative_sentiment_value  positive_sentiment_value  \\\n",
       "0                     0.013                     0.205   \n",
       "\n",
       "   neutral_sentiment_value  compound_sentiment_value  \n",
       "0                    0.783                    0.9867  "
      ]
     },
     "execution_count": 217,
     "metadata": {},
     "output_type": "execute_result"
    }
   ],
   "source": [
    "Y = data['project_is_approved'].values\n",
    "X = data.drop(['project_is_approved'], axis=1)\n",
    "X.head(1)"
   ]
  },
  {
   "cell_type": "code",
   "execution_count": 218,
   "metadata": {},
   "outputs": [],
   "source": [
    "from sklearn.model_selection import train_test_split\n",
    "from sklearn.feature_extraction.text import TfidfVectorizer\n",
    "from sklearn.feature_extraction.text import CountVectorizer\n",
    "X_train, X_test, Y_train, Y_test = train_test_split(X, Y, test_size=0.33, stratify=Y,random_state=0)\n",
    "#X_train, X_cv, Y_train, Y_cv = train_test_split(X_train, Y_train, test_size=0.33, stratify=Y_train,random_state=0)"
   ]
  },
  {
   "cell_type": "code",
   "execution_count": 219,
   "metadata": {},
   "outputs": [
    {
     "name": "stdout",
     "output_type": "stream",
     "text": [
      "(23450, 12) (23450,)\n",
      "(11550, 12) (11550,)\n"
     ]
    }
   ],
   "source": [
    "print(X_train.shape, Y_train.shape)\n",
    "#print(X_cv.shape, Y_cv.shape)\n",
    "print(X_test.shape, Y_test.shape)"
   ]
  },
  {
   "cell_type": "markdown",
   "metadata": {
    "colab_type": "text",
    "id": "vsALgl5Asc3u"
   },
   "source": [
    "<h2>1.3 Make Data Model Ready: encoding eassay, and project_title</h2>"
   ]
  },
  {
   "cell_type": "markdown",
   "metadata": {},
   "source": [
    "## 3. perform tfidf vectorization of text data."
   ]
  },
  {
   "cell_type": "code",
   "execution_count": 220,
   "metadata": {},
   "outputs": [
    {
     "name": "stdout",
     "output_type": "stream",
     "text": [
      "After TF-IDF vectorizations\n",
      "(23450, 5000) (23450,)\n",
      "(11550, 5000) (11550,)\n",
      "====================================================================================================\n"
     ]
    }
   ],
   "source": [
    "vectorizer = TfidfVectorizer(min_df=10,ngram_range=(1,4), max_features=5000)\n",
    "vectorizer.fit(X_train['essay'].values) # fit happens only on train data\n",
    "\n",
    "# we use the fitted CountVectorizer to convert the text to vector\n",
    "X_train_essay_tfidf = vectorizer.transform(X_train['essay'].values)\n",
    "#X_cv_essay_tfidf = vectorizer.transform(X_cv['essay'].values)\n",
    "X_test_essay_tfidf = vectorizer.transform(X_test['essay'].values)\n",
    "\n",
    "print(\"After TF-IDF vectorizations\")\n",
    "print(X_train_essay_tfidf.shape, Y_train.shape)\n",
    "#print(X_cv_essay_tfidf.shape, Y_cv.shape)\n",
    "print(X_test_essay_tfidf.shape, Y_test.shape)\n",
    "print(\"=\"*100)"
   ]
  },
  {
   "cell_type": "code",
   "execution_count": 221,
   "metadata": {},
   "outputs": [
    {
     "name": "stdout",
     "output_type": "stream",
     "text": [
      "5000\n"
     ]
    }
   ],
   "source": [
    "tfidf_essay_features = vectorizer.get_feature_names()\n",
    "print(len(tfidf_essay_features))"
   ]
  },
  {
   "cell_type": "markdown",
   "metadata": {},
   "source": [
    "## 4. perform tfidf w2v vectorization of text data."
   ]
  },
  {
   "cell_type": "code",
   "execution_count": 222,
   "metadata": {},
   "outputs": [],
   "source": [
    "import pickle\n",
    "with open('glove_vectors', 'rb') as f:\n",
    "    model = pickle.load(f)\n",
    "    glove_words =  set(model.keys())"
   ]
  },
  {
   "cell_type": "code",
   "execution_count": 223,
   "metadata": {},
   "outputs": [
    {
     "name": "stdout",
     "output_type": "stream",
     "text": [
      "5000 5000\n"
     ]
    }
   ],
   "source": [
    "dictionary = dict(zip(vectorizer.get_feature_names(), list(vectorizer.idf_)))\n",
    "tfidf_words = set(vectorizer.get_feature_names())\n",
    "print(len(dictionary),len(tfidf_words))"
   ]
  },
  {
   "cell_type": "code",
   "execution_count": 224,
   "metadata": {},
   "outputs": [],
   "source": [
    "from tqdm import tqdm\n",
    "import numpy as np\n",
    "def own_transform(preprocessed_essays):\n",
    "    tfidf_w2v_vectors = []; # the avg-w2v for each sentence/review is stored in this list\n",
    "    for sentence in tqdm(preprocessed_essays): # for each review/sentence\n",
    "        vector = np.zeros(300) # as word vectors are of zero length\n",
    "        tf_idf_weight =0; # num of words with a valid vector in the sentence/review\n",
    "        for word in sentence.split(): # for each word in a review/sentence\n",
    "            if (word in glove_words) and (word in tfidf_words):\n",
    "                vec = model[word] # getting the vector for each word\n",
    "                # here we are multiplying idf value(dictionary[word]) and the tf value((sentence.count(word)/len(sentence.split())))\n",
    "                tf_idf = dictionary[word]*(sentence.count(word)/len(sentence.split())) # getting the tfidf value for each word\n",
    "                vector += (vec * tf_idf) # calculating tfidf weighted w2v\n",
    "                tf_idf_weight += tf_idf\n",
    "        if tf_idf_weight != 0:\n",
    "            vector /= tf_idf_weight\n",
    "        tfidf_w2v_vectors.append(vector)\n",
    "\n",
    "    print(len(tfidf_w2v_vectors))\n",
    "    print(len(tfidf_w2v_vectors[0]))\n",
    "    return tfidf_w2v_vectors"
   ]
  },
  {
   "cell_type": "code",
   "execution_count": 225,
   "metadata": {},
   "outputs": [
    {
     "name": "stderr",
     "output_type": "stream",
     "text": [
      "100%|███████████████████████████████████████████████████████████████████████████| 23450/23450 [01:51<00:00, 210.88it/s]\n"
     ]
    },
    {
     "name": "stdout",
     "output_type": "stream",
     "text": [
      "23450\n",
      "300\n"
     ]
    },
    {
     "name": "stderr",
     "output_type": "stream",
     "text": [
      "100%|███████████████████████████████████████████████████████████████████████████| 11550/11550 [00:57<00:00, 199.92it/s]"
     ]
    },
    {
     "name": "stdout",
     "output_type": "stream",
     "text": [
      "11550\n",
      "300\n"
     ]
    },
    {
     "name": "stderr",
     "output_type": "stream",
     "text": [
      "\n"
     ]
    }
   ],
   "source": [
    "X_train_essay_tfidf_w2v = own_transform(X_train['essay'].values)\n",
    "#X_cv_essay_tfidf_w2v = own_transform(X_cv['essay'].values)\n",
    "X_test_essay_tfidf_w2v = own_transform(X_test['essay'].values)"
   ]
  },
  {
   "cell_type": "markdown",
   "metadata": {},
   "source": [
    "### Have not done tf-idf and tf-idf on title since it was not present in preprocessed.csv"
   ]
  },
  {
   "cell_type": "markdown",
   "metadata": {
    "colab_type": "text",
    "id": "S3Vxxv2Hsc31"
   },
   "source": [
    "<h2>1.4 Make Data Model Ready: encoding numerical, categorical features</h2>"
   ]
  },
  {
   "cell_type": "markdown",
   "metadata": {},
   "source": [
    "## 5. perform encoding of categorical features."
   ]
  },
  {
   "cell_type": "code",
   "execution_count": 226,
   "metadata": {},
   "outputs": [],
   "source": [
    "def calculateResponseEncoding(data,column):\n",
    "    uniquevalues=data[column].unique()\n",
    "    #print(len(uniquevalues))\n",
    "    \n",
    "    noOfPostive=[]\n",
    "    for i in uniquevalues:\n",
    "        location=data.loc[(data[column]==i)& Y_train==1]\n",
    "        noOfPostive.append(len(location))\n",
    "    #print(noOfPostive[1])\n",
    "    \n",
    "    noOfNegative=[]\n",
    "    for i in uniquevalues:\n",
    "        location=data.loc[(data[column]==i)& Y_train==0]\n",
    "        noOfNegative.append(len(location))\n",
    "    #print(noOfNegative[1])\n",
    "    #print(data.shape)\n",
    "    # response_coding_positive=positive/(positive+negative)\n",
    "    prob_pos={}\n",
    "    for i in range(len(uniquevalues)):\n",
    "        value=noOfPostive[i]/(noOfPostive[i]+noOfNegative[i])\n",
    "        prob_pos[uniquevalues[i]]=value\n",
    "    #print(prob_pos)    \n",
    "        \n",
    "    prob_neg={}\n",
    "    for i in range(len(uniquevalues)):\n",
    "        value=noOfNegative[i]/(noOfPostive[i]+noOfNegative[i])\n",
    "        prob_neg[uniquevalues[i]]=value\n",
    "    #print(prob_neg)\n",
    "    return prob_pos,prob_neg\n",
    "        "
   ]
  },
  {
   "cell_type": "markdown",
   "metadata": {},
   "source": [
    "## 5.1 Response Encoding on school state(Vectorization)"
   ]
  },
  {
   "cell_type": "code",
   "execution_count": 227,
   "metadata": {},
   "outputs": [],
   "source": [
    "school_state_1_train=calculateResponseEncoding(X_train,'school_state')[0]\n",
    "school_state_0_train=calculateResponseEncoding(X_train,'school_state')[1]"
   ]
  },
  {
   "cell_type": "code",
   "execution_count": 228,
   "metadata": {},
   "outputs": [],
   "source": [
    "school_state_neg_train=[]\n",
    "school_state_pos_train=[]\n",
    "for i in X_train['school_state']:\n",
    "    school_state_neg_train.append(school_state_0_train[i])\n",
    "    school_state_pos_train.append(school_state_1_train[i])\n",
    "X_train['school_state_0']=school_state_neg_train\n",
    "X_train['school_state_1']=school_state_pos_train"
   ]
  },
  {
   "cell_type": "code",
   "execution_count": 229,
   "metadata": {},
   "outputs": [],
   "source": [
    "school_state_neg_test=[]\n",
    "school_state_pos_test=[]\n",
    "for i in X_test['school_state']:\n",
    "    #print(school_state_0_train.get(i))\n",
    "    if school_state_0_train.get(i)==None:\n",
    "        school_state_neg_test.append(1/2)\n",
    "    else:\n",
    "        school_state_neg_test.append(school_state_0_train[i])\n",
    "   \n",
    "    if school_state_1_train.get(i)==None:\n",
    "        school_state_pos_test.append(1/2)\n",
    "    else:\n",
    "        school_state_pos_test.append(school_state_1_train[i])\n",
    "        \n",
    "    #school_state_neg_test.append(school_state_0_test[i])\n",
    "    #school_state_pos_test.append(school_state_1_test[i])\n",
    "X_test['school_state_0']=school_state_neg_test\n",
    "X_test['school_state_1']=school_state_pos_test"
   ]
  },
  {
   "cell_type": "markdown",
   "metadata": {},
   "source": [
    "## 5.2 Response Encoding on teacher prefix(Vectorization)"
   ]
  },
  {
   "cell_type": "code",
   "execution_count": 230,
   "metadata": {},
   "outputs": [],
   "source": [
    "teaPrefix_1_train=calculateResponseEncoding(X_train,'teacher_prefix')[0]\n",
    "teaPrefix_0_train=calculateResponseEncoding(X_train,'teacher_prefix')[1]"
   ]
  },
  {
   "cell_type": "code",
   "execution_count": 231,
   "metadata": {},
   "outputs": [],
   "source": [
    "teaPrefix_neg_train=[]\n",
    "teaPrefix_pos_train=[]\n",
    "for i in X_train['teacher_prefix']:\n",
    "    teaPrefix_neg_train.append(teaPrefix_0_train[i])\n",
    "    teaPrefix_pos_train.append(teaPrefix_1_train[i])\n",
    "X_train['teacherPrefix_0']=teaPrefix_neg_train\n",
    "X_train['teacherPrefix_1']=teaPrefix_pos_train"
   ]
  },
  {
   "cell_type": "code",
   "execution_count": 232,
   "metadata": {},
   "outputs": [],
   "source": [
    "teaPrefix_neg_test=[]\n",
    "teaPrefix_pos_test=[]\n",
    "for i in X_test['teacher_prefix']:\n",
    "    if teaPrefix_1_train.get(i)==None:\n",
    "        teaPrefix_pos_test.append(1/2)\n",
    "    else:\n",
    "        teaPrefix_pos_test.append(teaPrefix_1_train[i])\n",
    "    \n",
    "    if teaPrefix_0_train.get(i)==None:\n",
    "        teaPrefix_neg_test.append(1/2)\n",
    "    else:\n",
    "        teaPrefix_neg_test.append(teaPrefix_0_train[i])\n",
    "    #teaPrefix_neg_train.append(teaPrefix_0_train[i])\n",
    "    #teaPrefix_pos_train.append(teaPrefix_1_train[i])\n",
    "X_test['teacherPrefix_0']=teaPrefix_neg_test\n",
    "X_test['teacherPrefix_1']=teaPrefix_pos_test"
   ]
  },
  {
   "cell_type": "markdown",
   "metadata": {},
   "source": [
    "## 5.3 Response Encoding on project grade category(Vectorization)"
   ]
  },
  {
   "cell_type": "code",
   "execution_count": 233,
   "metadata": {},
   "outputs": [],
   "source": [
    "proGrade_1_train=calculateResponseEncoding(X_train,'project_grade_category')[0]\n",
    "proGrade_0_train=calculateResponseEncoding(X_train,'project_grade_category')[1]"
   ]
  },
  {
   "cell_type": "code",
   "execution_count": 234,
   "metadata": {},
   "outputs": [],
   "source": [
    "proGrade_neg_train=[]\n",
    "proGrade_pos_train=[]\n",
    "for i in X_train['project_grade_category']:\n",
    "    proGrade_neg_train.append(proGrade_0_train[i])\n",
    "    proGrade_pos_train.append(proGrade_1_train[i])\n",
    "X_train['projectGrade_0']=proGrade_neg_train\n",
    "X_train['projectGrade_1']=proGrade_pos_train"
   ]
  },
  {
   "cell_type": "code",
   "execution_count": 235,
   "metadata": {},
   "outputs": [],
   "source": [
    "proGrade_neg_test=[]\n",
    "proGrade_pos_test=[]\n",
    "for i in X_test['project_grade_category']:\n",
    "    if proGrade_0_train.get(i)==None:\n",
    "        proGrade_neg_test.append(1/2)\n",
    "    else:\n",
    "        proGrade_neg_test.append(proGrade_0_train[i])\n",
    "    \n",
    "    if proGrade_1_train.get(i)==None:\n",
    "        proGrade_pos_test.append(1/2)\n",
    "    else:\n",
    "        proGrade_pos_test.append(proGrade_1_train[i])\n",
    "    #proGrade_neg_train.append(proGrade_0_train[i])\n",
    "    #proGrade_pos_train.append(proGrade_1_train[i])\n",
    "X_test['projectGrade_0']=proGrade_neg_test\n",
    "X_test['projectGrade_1']=proGrade_pos_test"
   ]
  },
  {
   "cell_type": "markdown",
   "metadata": {},
   "source": [
    "## 5.4 Response Encoding on clean categories(Vectorization)"
   ]
  },
  {
   "cell_type": "code",
   "execution_count": 236,
   "metadata": {},
   "outputs": [],
   "source": [
    "clean_categories_1_train=calculateResponseEncoding(X_train,'clean_categories')[0]\n",
    "clean_categories_0_train=calculateResponseEncoding(X_train,'clean_categories')[1]"
   ]
  },
  {
   "cell_type": "code",
   "execution_count": 237,
   "metadata": {},
   "outputs": [],
   "source": [
    "clean_categories_neg_train=[]\n",
    "clean_categories_pos_train=[]\n",
    "for i in X_train['clean_categories']:\n",
    "    clean_categories_neg_train.append(clean_categories_0_train[i])\n",
    "    clean_categories_pos_train.append(clean_categories_1_train[i])\n",
    "X_train['clean_categories_0']=clean_categories_neg_train\n",
    "X_train['clean_categories_1']=clean_categories_pos_train"
   ]
  },
  {
   "cell_type": "code",
   "execution_count": 238,
   "metadata": {},
   "outputs": [],
   "source": [
    "clean_categories_neg_test=[]\n",
    "clean_categories_pos_test=[]\n",
    "for i in X_test['clean_categories']:\n",
    "    if clean_categories_0_train.get(i)==None:\n",
    "        clean_categories_neg_test.append(1/2)\n",
    "    else:\n",
    "        clean_categories_neg_test.append(clean_categories_0_train[i])\n",
    "        \n",
    "    if clean_categories_1_train.get(i)==None:\n",
    "        clean_categories_pos_test.append(1/2)\n",
    "    else:\n",
    "        clean_categories_pos_test.append(clean_categories_1_train[i])\n",
    "        \n",
    "    #clean_categories_neg_train.append(clean_categories_0_train[i])\n",
    "    #clean_categories_pos_train.append(clean_categories_1_train[i])\n",
    "X_test['clean_categories_0']=clean_categories_neg_test\n",
    "X_test['clean_categories_1']=clean_categories_pos_test"
   ]
  },
  {
   "cell_type": "markdown",
   "metadata": {},
   "source": [
    "## 5.5 Response Encoding on clean sub-categories(Vectorization)"
   ]
  },
  {
   "cell_type": "code",
   "execution_count": 239,
   "metadata": {},
   "outputs": [],
   "source": [
    "clean_subcategories_1_train=calculateResponseEncoding(X_train,'clean_subcategories')[0]\n",
    "clean_subcategories_0_train=calculateResponseEncoding(X_train,'clean_subcategories')[1]"
   ]
  },
  {
   "cell_type": "code",
   "execution_count": 240,
   "metadata": {},
   "outputs": [],
   "source": [
    "clean_subcategories_neg_train=[]\n",
    "clean_subcategories_pos_train=[]\n",
    "for i in X_train['clean_subcategories']:\n",
    "    clean_subcategories_neg_train.append(clean_subcategories_0_train[i])\n",
    "    clean_subcategories_pos_train.append(clean_subcategories_1_train[i])\n",
    "X_train['clean_subcategories_0']=clean_subcategories_neg_train\n",
    "X_train['clean_subcategories_1']=clean_subcategories_pos_train"
   ]
  },
  {
   "cell_type": "code",
   "execution_count": 241,
   "metadata": {},
   "outputs": [],
   "source": [
    "clean_subcategories_neg_test=[]\n",
    "clean_subcategories_pos_test=[]\n",
    "for i in X_test['clean_subcategories']:\n",
    "    if clean_subcategories_0_train.get(i)==None:\n",
    "        clean_subcategories_neg_test.append(1/2)\n",
    "    else:\n",
    "        clean_subcategories_neg_test.append(clean_subcategories_0_train[i])\n",
    "        \n",
    "    if clean_subcategories_1_train.get(i)==None:\n",
    "        clean_subcategories_pos_test.append(1/2)\n",
    "    else:\n",
    "        clean_subcategories_pos_test.append(clean_subcategories_1_train[i])\n",
    "        \n",
    "    #clean_subcategories_neg_train.append(clean_subcategories_0_train[i])\n",
    "    #clean_subcategories_pos_train.append(clean_subcategories_1_train[i])\n",
    "X_test['clean_subcategories_0']=clean_subcategories_neg_test\n",
    "X_test['clean_subcategories_1']=clean_subcategories_pos_test"
   ]
  },
  {
   "cell_type": "code",
   "execution_count": 242,
   "metadata": {},
   "outputs": [
    {
     "data": {
      "text/html": [
       "<div>\n",
       "<style scoped>\n",
       "    .dataframe tbody tr th:only-of-type {\n",
       "        vertical-align: middle;\n",
       "    }\n",
       "\n",
       "    .dataframe tbody tr th {\n",
       "        vertical-align: top;\n",
       "    }\n",
       "\n",
       "    .dataframe thead th {\n",
       "        text-align: right;\n",
       "    }\n",
       "</style>\n",
       "<table border=\"1\" class=\"dataframe\">\n",
       "  <thead>\n",
       "    <tr style=\"text-align: right;\">\n",
       "      <th></th>\n",
       "      <th>school_state</th>\n",
       "      <th>teacher_prefix</th>\n",
       "      <th>project_grade_category</th>\n",
       "      <th>teacher_number_of_previously_posted_projects</th>\n",
       "      <th>clean_categories</th>\n",
       "      <th>clean_subcategories</th>\n",
       "      <th>essay</th>\n",
       "      <th>price</th>\n",
       "      <th>negative_sentiment_value</th>\n",
       "      <th>positive_sentiment_value</th>\n",
       "      <th>...</th>\n",
       "      <th>school_state_0</th>\n",
       "      <th>school_state_1</th>\n",
       "      <th>teacherPrefix_0</th>\n",
       "      <th>teacherPrefix_1</th>\n",
       "      <th>projectGrade_0</th>\n",
       "      <th>projectGrade_1</th>\n",
       "      <th>clean_categories_0</th>\n",
       "      <th>clean_categories_1</th>\n",
       "      <th>clean_subcategories_0</th>\n",
       "      <th>clean_subcategories_1</th>\n",
       "    </tr>\n",
       "  </thead>\n",
       "  <tbody>\n",
       "    <tr>\n",
       "      <th>28546</th>\n",
       "      <td>nc</td>\n",
       "      <td>mrs</td>\n",
       "      <td>grades_6_8</td>\n",
       "      <td>8</td>\n",
       "      <td>specialneeds</td>\n",
       "      <td>specialneeds</td>\n",
       "      <td>i work great crowd energetic curious students ...</td>\n",
       "      <td>151.28</td>\n",
       "      <td>0.030</td>\n",
       "      <td>0.278</td>\n",
       "      <td>...</td>\n",
       "      <td>0.954158</td>\n",
       "      <td>0.045842</td>\n",
       "      <td>0.538806</td>\n",
       "      <td>0.461194</td>\n",
       "      <td>0.880426</td>\n",
       "      <td>0.119574</td>\n",
       "      <td>0.973902</td>\n",
       "      <td>0.026098</td>\n",
       "      <td>0.973902</td>\n",
       "      <td>0.026098</td>\n",
       "    </tr>\n",
       "    <tr>\n",
       "      <th>7458</th>\n",
       "      <td>ny</td>\n",
       "      <td>ms</td>\n",
       "      <td>grades_3_5</td>\n",
       "      <td>3</td>\n",
       "      <td>literacy_language</td>\n",
       "      <td>literature_writing</td>\n",
       "      <td>a typical day classroom consists twelve differ...</td>\n",
       "      <td>78.10</td>\n",
       "      <td>0.032</td>\n",
       "      <td>0.173</td>\n",
       "      <td>...</td>\n",
       "      <td>0.946311</td>\n",
       "      <td>0.053689</td>\n",
       "      <td>0.702516</td>\n",
       "      <td>0.297484</td>\n",
       "      <td>0.708870</td>\n",
       "      <td>0.291130</td>\n",
       "      <td>0.816290</td>\n",
       "      <td>0.183710</td>\n",
       "      <td>0.965245</td>\n",
       "      <td>0.034755</td>\n",
       "    </tr>\n",
       "  </tbody>\n",
       "</table>\n",
       "<p>2 rows × 22 columns</p>\n",
       "</div>"
      ],
      "text/plain": [
       "      school_state teacher_prefix project_grade_category  \\\n",
       "28546           nc            mrs             grades_6_8   \n",
       "7458            ny             ms             grades_3_5   \n",
       "\n",
       "       teacher_number_of_previously_posted_projects   clean_categories  \\\n",
       "28546                                             8       specialneeds   \n",
       "7458                                              3  literacy_language   \n",
       "\n",
       "      clean_subcategories                                              essay  \\\n",
       "28546        specialneeds  i work great crowd energetic curious students ...   \n",
       "7458   literature_writing  a typical day classroom consists twelve differ...   \n",
       "\n",
       "        price  negative_sentiment_value  positive_sentiment_value  \\\n",
       "28546  151.28                     0.030                     0.278   \n",
       "7458    78.10                     0.032                     0.173   \n",
       "\n",
       "               ...            school_state_0  school_state_1  teacherPrefix_0  \\\n",
       "28546          ...                  0.954158        0.045842         0.538806   \n",
       "7458           ...                  0.946311        0.053689         0.702516   \n",
       "\n",
       "       teacherPrefix_1  projectGrade_0  projectGrade_1  clean_categories_0  \\\n",
       "28546         0.461194        0.880426        0.119574            0.973902   \n",
       "7458          0.297484        0.708870        0.291130            0.816290   \n",
       "\n",
       "       clean_categories_1  clean_subcategories_0  clean_subcategories_1  \n",
       "28546            0.026098               0.973902               0.026098  \n",
       "7458             0.183710               0.965245               0.034755  \n",
       "\n",
       "[2 rows x 22 columns]"
      ]
     },
     "execution_count": 242,
     "metadata": {},
     "output_type": "execute_result"
    }
   ],
   "source": [
    "X_train.head(2)"
   ]
  },
  {
   "cell_type": "code",
   "execution_count": 243,
   "metadata": {},
   "outputs": [
    {
     "data": {
      "text/html": [
       "<div>\n",
       "<style scoped>\n",
       "    .dataframe tbody tr th:only-of-type {\n",
       "        vertical-align: middle;\n",
       "    }\n",
       "\n",
       "    .dataframe tbody tr th {\n",
       "        vertical-align: top;\n",
       "    }\n",
       "\n",
       "    .dataframe thead th {\n",
       "        text-align: right;\n",
       "    }\n",
       "</style>\n",
       "<table border=\"1\" class=\"dataframe\">\n",
       "  <thead>\n",
       "    <tr style=\"text-align: right;\">\n",
       "      <th></th>\n",
       "      <th>school_state</th>\n",
       "      <th>teacher_prefix</th>\n",
       "      <th>project_grade_category</th>\n",
       "      <th>teacher_number_of_previously_posted_projects</th>\n",
       "      <th>clean_categories</th>\n",
       "      <th>clean_subcategories</th>\n",
       "      <th>essay</th>\n",
       "      <th>price</th>\n",
       "      <th>negative_sentiment_value</th>\n",
       "      <th>positive_sentiment_value</th>\n",
       "      <th>...</th>\n",
       "      <th>school_state_0</th>\n",
       "      <th>school_state_1</th>\n",
       "      <th>teacherPrefix_0</th>\n",
       "      <th>teacherPrefix_1</th>\n",
       "      <th>projectGrade_0</th>\n",
       "      <th>projectGrade_1</th>\n",
       "      <th>clean_categories_0</th>\n",
       "      <th>clean_categories_1</th>\n",
       "      <th>clean_subcategories_0</th>\n",
       "      <th>clean_subcategories_1</th>\n",
       "    </tr>\n",
       "  </thead>\n",
       "  <tbody>\n",
       "    <tr>\n",
       "      <th>4418</th>\n",
       "      <td>ne</td>\n",
       "      <td>mrs</td>\n",
       "      <td>grades_3_5</td>\n",
       "      <td>0</td>\n",
       "      <td>specialneeds</td>\n",
       "      <td>specialneeds</td>\n",
       "      <td>we title i school enrollment nearly 400 studen...</td>\n",
       "      <td>341.81</td>\n",
       "      <td>0.04</td>\n",
       "      <td>0.180</td>\n",
       "      <td>...</td>\n",
       "      <td>0.997399</td>\n",
       "      <td>0.002601</td>\n",
       "      <td>0.538806</td>\n",
       "      <td>0.461194</td>\n",
       "      <td>0.708870</td>\n",
       "      <td>0.291130</td>\n",
       "      <td>0.973902</td>\n",
       "      <td>0.026098</td>\n",
       "      <td>0.973902</td>\n",
       "      <td>0.026098</td>\n",
       "    </tr>\n",
       "    <tr>\n",
       "      <th>34686</th>\n",
       "      <td>fl</td>\n",
       "      <td>ms</td>\n",
       "      <td>grades_6_8</td>\n",
       "      <td>8</td>\n",
       "      <td>health_sports</td>\n",
       "      <td>health_wellness</td>\n",
       "      <td>this project directly inspired wonderful stude...</td>\n",
       "      <td>101.95</td>\n",
       "      <td>0.00</td>\n",
       "      <td>0.322</td>\n",
       "      <td>...</td>\n",
       "      <td>0.949296</td>\n",
       "      <td>0.050704</td>\n",
       "      <td>0.702516</td>\n",
       "      <td>0.297484</td>\n",
       "      <td>0.880426</td>\n",
       "      <td>0.119574</td>\n",
       "      <td>0.867761</td>\n",
       "      <td>0.132239</td>\n",
       "      <td>0.947377</td>\n",
       "      <td>0.052623</td>\n",
       "    </tr>\n",
       "  </tbody>\n",
       "</table>\n",
       "<p>2 rows × 22 columns</p>\n",
       "</div>"
      ],
      "text/plain": [
       "      school_state teacher_prefix project_grade_category  \\\n",
       "4418            ne            mrs             grades_3_5   \n",
       "34686           fl             ms             grades_6_8   \n",
       "\n",
       "       teacher_number_of_previously_posted_projects clean_categories  \\\n",
       "4418                                              0     specialneeds   \n",
       "34686                                             8    health_sports   \n",
       "\n",
       "      clean_subcategories                                              essay  \\\n",
       "4418         specialneeds  we title i school enrollment nearly 400 studen...   \n",
       "34686     health_wellness  this project directly inspired wonderful stude...   \n",
       "\n",
       "        price  negative_sentiment_value  positive_sentiment_value  \\\n",
       "4418   341.81                      0.04                     0.180   \n",
       "34686  101.95                      0.00                     0.322   \n",
       "\n",
       "               ...            school_state_0  school_state_1  teacherPrefix_0  \\\n",
       "4418           ...                  0.997399        0.002601         0.538806   \n",
       "34686          ...                  0.949296        0.050704         0.702516   \n",
       "\n",
       "       teacherPrefix_1  projectGrade_0  projectGrade_1  clean_categories_0  \\\n",
       "4418          0.461194        0.708870        0.291130            0.973902   \n",
       "34686         0.297484        0.880426        0.119574            0.867761   \n",
       "\n",
       "       clean_categories_1  clean_subcategories_0  clean_subcategories_1  \n",
       "4418             0.026098               0.973902               0.026098  \n",
       "34686            0.132239               0.947377               0.052623  \n",
       "\n",
       "[2 rows x 22 columns]"
      ]
     },
     "execution_count": 243,
     "metadata": {},
     "output_type": "execute_result"
    }
   ],
   "source": [
    "X_test.head(2)"
   ]
  },
  {
   "cell_type": "markdown",
   "metadata": {},
   "source": [
    "## 6.1 Encoding Numericals Feature:Price"
   ]
  },
  {
   "cell_type": "code",
   "execution_count": 244,
   "metadata": {},
   "outputs": [
    {
     "name": "stdout",
     "output_type": "stream",
     "text": [
      "After vectorizations\n",
      "(23450, 1) (23450,)\n",
      "(11550, 1) (11550,)\n",
      "====================================================================================================\n"
     ]
    }
   ],
   "source": [
    "from sklearn.preprocessing import Normalizer\n",
    "normalizer = Normalizer()\n",
    "\n",
    "normalizer.fit(X_train['price'].values.reshape(-1,1))\n",
    "\n",
    "X_train_price_norm = normalizer.transform(X_train['price'].values.reshape(-1,1))\n",
    "#X_cv_price_norm = normalizer.transform(X_cv['price'].values.reshape(-1,1))\n",
    "X_test_price_norm = normalizer.transform(X_test['price'].values.reshape(-1,1))\n",
    "\n",
    "\n",
    "print(\"After vectorizations\")\n",
    "print(X_train_price_norm.shape, Y_train.shape)\n",
    "#print(X_cv_price_norm.shape, Y_cv.shape)\n",
    "print(X_test_price_norm.shape, Y_test.shape)\n",
    "print(\"=\"*100)"
   ]
  },
  {
   "cell_type": "markdown",
   "metadata": {},
   "source": [
    "## 6.2 Encoding Numericals Feature:teacher_number_of_previously_posted_projects"
   ]
  },
  {
   "cell_type": "code",
   "execution_count": 245,
   "metadata": {},
   "outputs": [
    {
     "name": "stdout",
     "output_type": "stream",
     "text": [
      "After vectorizations\n",
      "(23450, 1) (23450,)\n",
      "(11550, 1) (11550,)\n",
      "====================================================================================================\n"
     ]
    }
   ],
   "source": [
    "normalizer = Normalizer()\n",
    "\n",
    "normalizer.fit(X_train['teacher_number_of_previously_posted_projects'].values.reshape(-1,1))\n",
    "\n",
    "X_train_teacher_number_norm = normalizer.transform(X_train['teacher_number_of_previously_posted_projects'].values.reshape(-1,1))\n",
    "#X_cv_teacher_number_norm = normalizer.transform(X_cv['teacher_number_of_previously_posted_projects'].values.reshape(-1,1))\n",
    "X_test_teacher_number_norm = normalizer.transform(X_test['teacher_number_of_previously_posted_projects'].values.reshape(-1,1))\n",
    "\n",
    "\n",
    "print(\"After vectorizations\")\n",
    "print(X_train_teacher_number_norm.shape, Y_train.shape)\n",
    "#print(X_cv_teacher_number_norm.shape, Y_cv.shape)\n",
    "print(X_test_teacher_number_norm.shape, Y_test.shape)\n",
    "print(\"=\"*100)"
   ]
  },
  {
   "cell_type": "markdown",
   "metadata": {},
   "source": [
    "## Encoding Numerical Feature: school_state_0"
   ]
  },
  {
   "cell_type": "code",
   "execution_count": 246,
   "metadata": {},
   "outputs": [
    {
     "name": "stdout",
     "output_type": "stream",
     "text": [
      "After vectorizations\n",
      "(23450, 1) (23450,)\n",
      "(11550, 1) (11550,)\n",
      "====================================================================================================\n"
     ]
    }
   ],
   "source": [
    "normalizer = Normalizer()\n",
    "\n",
    "normalizer.fit(X_train['school_state_0'].values.reshape(-1,1))\n",
    "\n",
    "X_train_school_state_0_norm = normalizer.transform(X_train['school_state_0'].values.reshape(-1,1))\n",
    "#X_cv_teacher_number_norm = normalizer.transform(X_cv['teacher_number_of_previously_posted_projects'].values.reshape(-1,1))\n",
    "X_test_school_state_0_norm = normalizer.transform(X_test['school_state_0'].values.reshape(-1,1))\n",
    "\n",
    "\n",
    "print(\"After vectorizations\")\n",
    "print(X_train_school_state_0_norm.shape, Y_train.shape)\n",
    "#print(X_cv_teacher_number_norm.shape, Y_cv.shape)\n",
    "print(X_test_school_state_0_norm.shape, Y_test.shape)\n",
    "print(\"=\"*100)"
   ]
  },
  {
   "cell_type": "markdown",
   "metadata": {},
   "source": [
    "## Encoding Numerical Feature: school_state_1"
   ]
  },
  {
   "cell_type": "code",
   "execution_count": 247,
   "metadata": {},
   "outputs": [
    {
     "name": "stdout",
     "output_type": "stream",
     "text": [
      "After vectorizations\n",
      "(23450, 1) (23450,)\n",
      "(11550, 1) (11550,)\n",
      "====================================================================================================\n"
     ]
    }
   ],
   "source": [
    "normalizer = Normalizer()\n",
    "\n",
    "normalizer.fit(X_train['school_state_1'].values.reshape(-1,1))\n",
    "\n",
    "X_train_school_state_1_norm = normalizer.transform(X_train['school_state_1'].values.reshape(-1,1))\n",
    "#X_cv_teacher_number_norm = normalizer.transform(X_cv['teacher_number_of_previously_posted_projects'].values.reshape(-1,1))\n",
    "X_test_school_state_1_norm = normalizer.transform(X_test['school_state_1'].values.reshape(-1,1))\n",
    "\n",
    "\n",
    "print(\"After vectorizations\")\n",
    "print(X_train_school_state_1_norm.shape, Y_train.shape)\n",
    "#print(X_cv_teacher_number_norm.shape, Y_cv.shape)\n",
    "print(X_test_school_state_1_norm.shape, Y_test.shape)\n",
    "print(\"=\"*100)"
   ]
  },
  {
   "cell_type": "markdown",
   "metadata": {},
   "source": [
    "## Encoding Numerical Feature: teacherPrefix_0"
   ]
  },
  {
   "cell_type": "code",
   "execution_count": 248,
   "metadata": {},
   "outputs": [
    {
     "name": "stdout",
     "output_type": "stream",
     "text": [
      "After vectorizations\n",
      "(23450, 1) (23450,)\n",
      "(11550, 1) (11550,)\n",
      "====================================================================================================\n"
     ]
    }
   ],
   "source": [
    "normalizer = Normalizer()\n",
    "\n",
    "normalizer.fit(X_train['teacherPrefix_0'].values.reshape(-1,1))\n",
    "\n",
    "X_train_teacherPrefix_0_norm = normalizer.transform(X_train['teacherPrefix_0'].values.reshape(-1,1))\n",
    "#X_cv_teacher_number_norm = normalizer.transform(X_cv['teacher_number_of_previously_posted_projects'].values.reshape(-1,1))\n",
    "X_test_teacherPrefix_0_norm = normalizer.transform(X_test['teacherPrefix_0'].values.reshape(-1,1))\n",
    "\n",
    "\n",
    "print(\"After vectorizations\")\n",
    "print(X_train_teacherPrefix_0_norm.shape, Y_train.shape)\n",
    "#print(X_cv_teacher_number_norm.shape, Y_cv.shape)\n",
    "print(X_test_teacherPrefix_0_norm.shape, Y_test.shape)\n",
    "print(\"=\"*100)"
   ]
  },
  {
   "cell_type": "markdown",
   "metadata": {},
   "source": [
    "## Encoding Numerical Feature: teacherPrefix_1"
   ]
  },
  {
   "cell_type": "code",
   "execution_count": 249,
   "metadata": {},
   "outputs": [
    {
     "name": "stdout",
     "output_type": "stream",
     "text": [
      "After vectorizations\n",
      "(23450, 1) (23450,)\n",
      "(11550, 1) (11550,)\n",
      "====================================================================================================\n"
     ]
    }
   ],
   "source": [
    "normalizer = Normalizer()\n",
    "\n",
    "normalizer.fit(X_train['teacherPrefix_1'].values.reshape(-1,1))\n",
    "\n",
    "X_train_teacherPrefix_1_norm = normalizer.transform(X_train['teacherPrefix_1'].values.reshape(-1,1))\n",
    "#X_cv_teacher_number_norm = normalizer.transform(X_cv['teacher_number_of_previously_posted_projects'].values.reshape(-1,1))\n",
    "X_test_teacherPrefix_1_norm = normalizer.transform(X_test['teacherPrefix_1'].values.reshape(-1,1))\n",
    "\n",
    "\n",
    "print(\"After vectorizations\")\n",
    "print(X_train_teacherPrefix_1_norm.shape, Y_train.shape)\n",
    "#print(X_cv_teacher_number_norm.shape, Y_cv.shape)\n",
    "print(X_test_teacherPrefix_1_norm.shape, Y_test.shape)\n",
    "print(\"=\"*100)"
   ]
  },
  {
   "cell_type": "markdown",
   "metadata": {},
   "source": [
    "## Encoding Numerical Feature: projectGrade_0"
   ]
  },
  {
   "cell_type": "code",
   "execution_count": 250,
   "metadata": {},
   "outputs": [
    {
     "name": "stdout",
     "output_type": "stream",
     "text": [
      "After vectorizations\n",
      "(23450, 1) (23450,)\n",
      "(11550, 1) (11550,)\n",
      "====================================================================================================\n"
     ]
    }
   ],
   "source": [
    "normalizer = Normalizer()\n",
    "\n",
    "normalizer.fit(X_train['projectGrade_0'].values.reshape(-1,1))\n",
    "\n",
    "X_train_projectGrade_0_norm = normalizer.transform(X_train['projectGrade_0'].values.reshape(-1,1))\n",
    "#X_cv_teacher_number_norm = normalizer.transform(X_cv['teacher_number_of_previously_posted_projects'].values.reshape(-1,1))\n",
    "X_test_projectGrade_0_norm = normalizer.transform(X_test['projectGrade_0'].values.reshape(-1,1))\n",
    "\n",
    "\n",
    "print(\"After vectorizations\")\n",
    "print(X_train_projectGrade_0_norm.shape, Y_train.shape)\n",
    "#print(X_cv_teacher_number_norm.shape, Y_cv.shape)\n",
    "print(X_test_projectGrade_0_norm.shape, Y_test.shape)\n",
    "print(\"=\"*100)"
   ]
  },
  {
   "cell_type": "markdown",
   "metadata": {},
   "source": [
    "## Encoding Numerical Feature: projectGrade_1"
   ]
  },
  {
   "cell_type": "code",
   "execution_count": 251,
   "metadata": {},
   "outputs": [
    {
     "name": "stdout",
     "output_type": "stream",
     "text": [
      "After vectorizations\n",
      "(23450, 1) (23450,)\n",
      "(11550, 1) (11550,)\n",
      "====================================================================================================\n"
     ]
    }
   ],
   "source": [
    "normalizer = Normalizer()\n",
    "\n",
    "normalizer.fit(X_train['projectGrade_1'].values.reshape(-1,1))\n",
    "\n",
    "X_train_projectGrade_1_norm = normalizer.transform(X_train['projectGrade_1'].values.reshape(-1,1))\n",
    "#X_cv_teacher_number_norm = normalizer.transform(X_cv['teacher_number_of_previously_posted_projects'].values.reshape(-1,1))\n",
    "X_test_projectGrade_1_norm = normalizer.transform(X_test['projectGrade_1'].values.reshape(-1,1))\n",
    "\n",
    "\n",
    "print(\"After vectorizations\")\n",
    "print(X_train_projectGrade_1_norm.shape, Y_train.shape)\n",
    "#print(X_cv_teacher_number_norm.shape, Y_cv.shape)\n",
    "print(X_test_projectGrade_1_norm.shape, Y_test.shape)\n",
    "print(\"=\"*100)"
   ]
  },
  {
   "cell_type": "markdown",
   "metadata": {},
   "source": [
    "## Encoding Numerical Feature: clean_categories_0"
   ]
  },
  {
   "cell_type": "code",
   "execution_count": 252,
   "metadata": {},
   "outputs": [
    {
     "name": "stdout",
     "output_type": "stream",
     "text": [
      "After vectorizations\n",
      "(23450, 1) (23450,)\n",
      "(11550, 1) (11550,)\n",
      "====================================================================================================\n"
     ]
    }
   ],
   "source": [
    "normalizer = Normalizer()\n",
    "\n",
    "normalizer.fit(X_train['clean_categories_0'].values.reshape(-1,1))\n",
    "\n",
    "X_train_clean_categories_0_norm = normalizer.transform(X_train['clean_categories_0'].values.reshape(-1,1))\n",
    "#X_cv_teacher_number_norm = normalizer.transform(X_cv['teacher_number_of_previously_posted_projects'].values.reshape(-1,1))\n",
    "X_test_clean_categories_0_norm = normalizer.transform(X_test['clean_categories_0'].values.reshape(-1,1))\n",
    "\n",
    "\n",
    "print(\"After vectorizations\")\n",
    "print(X_train_clean_categories_0_norm.shape, Y_train.shape)\n",
    "#print(X_cv_teacher_number_norm.shape, Y_cv.shape)\n",
    "print(X_test_clean_categories_0_norm.shape, Y_test.shape)\n",
    "print(\"=\"*100)"
   ]
  },
  {
   "cell_type": "markdown",
   "metadata": {},
   "source": [
    "## Encoding Numerical Feature: clean_categories_1"
   ]
  },
  {
   "cell_type": "code",
   "execution_count": 253,
   "metadata": {},
   "outputs": [
    {
     "name": "stdout",
     "output_type": "stream",
     "text": [
      "After vectorizations\n",
      "(23450, 1) (23450,)\n",
      "(11550, 1) (11550,)\n",
      "====================================================================================================\n"
     ]
    }
   ],
   "source": [
    "normalizer = Normalizer()\n",
    "\n",
    "normalizer.fit(X_train['clean_categories_1'].values.reshape(-1,1))\n",
    "\n",
    "X_train_clean_categories_1_norm = normalizer.transform(X_train['clean_categories_1'].values.reshape(-1,1))\n",
    "#X_cv_teacher_number_norm = normalizer.transform(X_cv['teacher_number_of_previously_posted_projects'].values.reshape(-1,1))\n",
    "X_test_clean_categories_1_norm = normalizer.transform(X_test['clean_categories_1'].values.reshape(-1,1))\n",
    "\n",
    "\n",
    "print(\"After vectorizations\")\n",
    "print(X_train_clean_categories_1_norm.shape, Y_train.shape)\n",
    "#print(X_cv_teacher_number_norm.shape, Y_cv.shape)\n",
    "print(X_test_clean_categories_1_norm.shape, Y_test.shape)\n",
    "print(\"=\"*100)"
   ]
  },
  {
   "cell_type": "markdown",
   "metadata": {},
   "source": [
    "## Encoding Numerical Feature: clean_subcategories_0"
   ]
  },
  {
   "cell_type": "code",
   "execution_count": 254,
   "metadata": {},
   "outputs": [
    {
     "name": "stdout",
     "output_type": "stream",
     "text": [
      "After vectorizations\n",
      "(23450, 1) (23450,)\n",
      "(11550, 1) (11550,)\n",
      "====================================================================================================\n"
     ]
    }
   ],
   "source": [
    "normalizer = Normalizer()\n",
    "\n",
    "normalizer.fit(X_train['clean_subcategories_0'].values.reshape(-1,1))\n",
    "\n",
    "X_train_clean_subcategories_0_norm = normalizer.transform(X_train['clean_subcategories_0'].values.reshape(-1,1))\n",
    "#X_cv_teacher_number_norm = normalizer.transform(X_cv['teacher_number_of_previously_posted_projects'].values.reshape(-1,1))\n",
    "X_test_clean_subcategories_0_norm = normalizer.transform(X_test['clean_subcategories_0'].values.reshape(-1,1))\n",
    "\n",
    "\n",
    "print(\"After vectorizations\")\n",
    "print(X_train_clean_subcategories_0_norm.shape, Y_train.shape)\n",
    "#print(X_cv_teacher_number_norm.shape, Y_cv.shape)\n",
    "print(X_test_clean_subcategories_0_norm.shape, Y_test.shape)\n",
    "print(\"=\"*100)"
   ]
  },
  {
   "cell_type": "markdown",
   "metadata": {},
   "source": [
    "## Encoding Numerical Feature: clean_subcategories_1"
   ]
  },
  {
   "cell_type": "code",
   "execution_count": 255,
   "metadata": {},
   "outputs": [
    {
     "name": "stdout",
     "output_type": "stream",
     "text": [
      "After vectorizations\n",
      "(23450, 1) (23450,)\n",
      "(11550, 1) (11550,)\n",
      "====================================================================================================\n"
     ]
    }
   ],
   "source": [
    "normalizer = Normalizer()\n",
    "\n",
    "normalizer.fit(X_train['clean_subcategories_1'].values.reshape(-1,1))\n",
    "\n",
    "X_train_clean_subcategories_1_norm = normalizer.transform(X_train['clean_subcategories_1'].values.reshape(-1,1))\n",
    "#X_cv_teacher_number_norm = normalizer.transform(X_cv['teacher_number_of_previously_posted_projects'].values.reshape(-1,1))\n",
    "X_test_clean_subcategories_1_norm = normalizer.transform(X_test['clean_subcategories_1'].values.reshape(-1,1))\n",
    "\n",
    "\n",
    "print(\"After vectorizations\")\n",
    "print(X_train_clean_subcategories_1_norm.shape, Y_train.shape)\n",
    "#print(X_cv_teacher_number_norm.shape, Y_cv.shape)\n",
    "print(X_test_clean_subcategories_1_norm.shape, Y_test.shape)\n",
    "print(\"=\"*100)"
   ]
  },
  {
   "cell_type": "markdown",
   "metadata": {},
   "source": [
    "## Encoding Numerical Feature: negative_sentiment_value"
   ]
  },
  {
   "cell_type": "code",
   "execution_count": 256,
   "metadata": {},
   "outputs": [
    {
     "name": "stdout",
     "output_type": "stream",
     "text": [
      "After vectorizations\n",
      "(23450, 1) (23450,)\n",
      "(11550, 1) (11550,)\n",
      "====================================================================================================\n"
     ]
    }
   ],
   "source": [
    "normalizer = Normalizer()\n",
    "\n",
    "normalizer.fit(X_train['negative_sentiment_value'].values.reshape(-1,1))\n",
    "\n",
    "X_train_negative_sentiment_value_norm = normalizer.transform(X_train['negative_sentiment_value'].values.reshape(-1,1))\n",
    "#X_cv_teacher_number_norm = normalizer.transform(X_cv['teacher_number_of_previously_posted_projects'].values.reshape(-1,1))\n",
    "X_test_negative_sentiment_value_norm = normalizer.transform(X_test['negative_sentiment_value'].values.reshape(-1,1))\n",
    "\n",
    "\n",
    "print(\"After vectorizations\")\n",
    "print(X_train_negative_sentiment_value_norm.shape, Y_train.shape)\n",
    "#print(X_cv_teacher_number_norm.shape, Y_cv.shape)\n",
    "print(X_test_negative_sentiment_value_norm.shape, Y_test.shape)\n",
    "print(\"=\"*100)"
   ]
  },
  {
   "cell_type": "markdown",
   "metadata": {},
   "source": [
    "## Encoding Numerical Feature: positive_sentiment_value"
   ]
  },
  {
   "cell_type": "code",
   "execution_count": 257,
   "metadata": {},
   "outputs": [
    {
     "name": "stdout",
     "output_type": "stream",
     "text": [
      "After vectorizations\n",
      "(23450, 1) (23450,)\n",
      "(11550, 1) (11550,)\n",
      "====================================================================================================\n"
     ]
    }
   ],
   "source": [
    "normalizer = Normalizer()\n",
    "\n",
    "normalizer.fit(X_train['positive_sentiment_value'].values.reshape(-1,1))\n",
    "\n",
    "X_train_positive_sentiment_value_norm = normalizer.transform(X_train['positive_sentiment_value'].values.reshape(-1,1))\n",
    "#X_cv_teacher_number_norm = normalizer.transform(X_cv['teacher_number_of_previously_posted_projects'].values.reshape(-1,1))\n",
    "X_test_positive_sentiment_value_norm = normalizer.transform(X_test['positive_sentiment_value'].values.reshape(-1,1))\n",
    "\n",
    "\n",
    "print(\"After vectorizations\")\n",
    "print(X_train_positive_sentiment_value_norm.shape, Y_train.shape)\n",
    "#print(X_cv_teacher_number_norm.shape, Y_cv.shape)\n",
    "print(X_test_positive_sentiment_value_norm.shape, Y_test.shape)\n",
    "print(\"=\"*100)"
   ]
  },
  {
   "cell_type": "markdown",
   "metadata": {},
   "source": [
    "## Encoding Numerical Feature: neutral_sentiment_value"
   ]
  },
  {
   "cell_type": "code",
   "execution_count": 258,
   "metadata": {},
   "outputs": [
    {
     "name": "stdout",
     "output_type": "stream",
     "text": [
      "After vectorizations\n",
      "(23450, 1) (23450,)\n",
      "(11550, 1) (11550,)\n",
      "====================================================================================================\n"
     ]
    }
   ],
   "source": [
    "normalizer = Normalizer()\n",
    "\n",
    "normalizer.fit(X_train['neutral_sentiment_value'].values.reshape(-1,1))\n",
    "\n",
    "X_train_neutral_sentiment_value_norm = normalizer.transform(X_train['neutral_sentiment_value'].values.reshape(-1,1))\n",
    "#X_cv_teacher_number_norm = normalizer.transform(X_cv['teacher_number_of_previously_posted_projects'].values.reshape(-1,1))\n",
    "X_test_neutral_sentiment_value_norm = normalizer.transform(X_test['neutral_sentiment_value'].values.reshape(-1,1))\n",
    "\n",
    "\n",
    "print(\"After vectorizations\")\n",
    "print(X_train_neutral_sentiment_value_norm.shape, Y_train.shape)\n",
    "#print(X_cv_teacher_number_norm.shape, Y_cv.shape)\n",
    "print(X_test_neutral_sentiment_value_norm.shape, Y_test.shape)\n",
    "print(\"=\"*100)"
   ]
  },
  {
   "cell_type": "markdown",
   "metadata": {},
   "source": [
    "## Encoding Numerical Feature: compound_sentiment_value"
   ]
  },
  {
   "cell_type": "code",
   "execution_count": 259,
   "metadata": {},
   "outputs": [
    {
     "name": "stdout",
     "output_type": "stream",
     "text": [
      "After vectorizations\n",
      "(23450, 1) (23450,)\n",
      "(11550, 1) (11550,)\n",
      "====================================================================================================\n"
     ]
    }
   ],
   "source": [
    "normalizer = Normalizer()\n",
    "\n",
    "normalizer.fit(X_train['compound_sentiment_value'].values.reshape(-1,1))\n",
    "\n",
    "X_train_compound_sentiment_value_norm = normalizer.transform(X_train['compound_sentiment_value'].values.reshape(-1,1))\n",
    "#X_cv_teacher_number_norm = normalizer.transform(X_cv['teacher_number_of_previously_posted_projects'].values.reshape(-1,1))\n",
    "X_test_compound_sentiment_value_norm = normalizer.transform(X_test['compound_sentiment_value'].values.reshape(-1,1))\n",
    "\n",
    "\n",
    "print(\"After vectorizations\")\n",
    "print(X_train_compound_sentiment_value_norm.shape, Y_train.shape)\n",
    "#print(X_cv_teacher_number_norm.shape, Y_cv.shape)\n",
    "print(X_test_compound_sentiment_value_norm.shape, Y_test.shape)\n",
    "print(\"=\"*100)"
   ]
  },
  {
   "cell_type": "code",
   "execution_count": 260,
   "metadata": {},
   "outputs": [
    {
     "data": {
      "text/plain": [
       "Index(['school_state', 'teacher_prefix', 'project_grade_category',\n",
       "       'teacher_number_of_previously_posted_projects', 'clean_categories',\n",
       "       'clean_subcategories', 'essay', 'price', 'negative_sentiment_value',\n",
       "       'positive_sentiment_value', 'neutral_sentiment_value',\n",
       "       'compound_sentiment_value', 'school_state_0', 'school_state_1',\n",
       "       'teacherPrefix_0', 'teacherPrefix_1', 'projectGrade_0',\n",
       "       'projectGrade_1', 'clean_categories_0', 'clean_categories_1',\n",
       "       'clean_subcategories_0', 'clean_subcategories_1'],\n",
       "      dtype='object')"
      ]
     },
     "execution_count": 260,
     "metadata": {},
     "output_type": "execute_result"
    }
   ],
   "source": [
    "X_train.columns"
   ]
  },
  {
   "cell_type": "code",
   "execution_count": 261,
   "metadata": {},
   "outputs": [
    {
     "data": {
      "text/plain": [
       "Index(['school_state', 'teacher_prefix', 'project_grade_category',\n",
       "       'teacher_number_of_previously_posted_projects', 'clean_categories',\n",
       "       'clean_subcategories', 'essay', 'price', 'negative_sentiment_value',\n",
       "       'positive_sentiment_value', 'neutral_sentiment_value',\n",
       "       'compound_sentiment_value', 'school_state_0', 'school_state_1',\n",
       "       'teacherPrefix_0', 'teacherPrefix_1', 'projectGrade_0',\n",
       "       'projectGrade_1', 'clean_categories_0', 'clean_categories_1',\n",
       "       'clean_subcategories_0', 'clean_subcategories_1'],\n",
       "      dtype='object')"
      ]
     },
     "execution_count": 261,
     "metadata": {},
     "output_type": "execute_result"
    }
   ],
   "source": [
    "X_test.columns"
   ]
  },
  {
   "cell_type": "markdown",
   "metadata": {},
   "source": [
    "## 7. For set 1 stack up all the features"
   ]
  },
  {
   "cell_type": "code",
   "execution_count": 262,
   "metadata": {},
   "outputs": [
    {
     "name": "stdout",
     "output_type": "stream",
     "text": [
      "(23450, 5000)\n"
     ]
    }
   ],
   "source": [
    "print(X_train_essay_tfidf.shape)"
   ]
  },
  {
   "cell_type": "code",
   "execution_count": 263,
   "metadata": {},
   "outputs": [
    {
     "name": "stdout",
     "output_type": "stream",
     "text": [
      "Final Data matrix\n",
      "(23450, 5016) (23450,)\n",
      "(11550, 5016) (11550,)\n",
      "====================================================================================================\n"
     ]
    }
   ],
   "source": [
    "from scipy.sparse import hstack\n",
    "\n",
    "X_train_tfidf = hstack((X_train_essay_tfidf, X_train_school_state_0_norm,X_train_school_state_1_norm, X_train_teacherPrefix_0_norm, X_train_teacherPrefix_1_norm, X_train_projectGrade_0_norm, X_train_projectGrade_1_norm, X_train_clean_categories_0_norm,X_train_clean_categories_1_norm, X_train_clean_subcategories_0_norm, X_train_clean_subcategories_1_norm\t,X_train_price_norm,X_train_teacher_number_norm, X_train_negative_sentiment_value_norm, X_train_positive_sentiment_value_norm, X_train_neutral_sentiment_value_norm, X_train_compound_sentiment_value_norm)).tocsr()\n",
    "\n",
    "X_test_tfidf = hstack((X_test_essay_tfidf, X_test_school_state_0_norm,X_test_school_state_1_norm, X_test_teacherPrefix_0_norm, X_test_teacherPrefix_1_norm, X_test_projectGrade_0_norm, X_test_projectGrade_1_norm, X_test_clean_categories_0_norm,X_test_clean_categories_1_norm, X_test_clean_subcategories_0_norm, X_test_clean_subcategories_1_norm\t,X_test_price_norm,X_test_teacher_number_norm, X_test_negative_sentiment_value_norm, X_test_positive_sentiment_value_norm, X_test_neutral_sentiment_value_norm, X_test_compound_sentiment_value_norm)).tocsr()\n",
    "print(\"Final Data matrix\")\n",
    "print(X_train_tfidf.shape, Y_train.shape)\n",
    "#print(X_cv_tfidf.shape, Y_cv.shape)\n",
    "print(X_test_tfidf.shape, Y_test.shape)\n",
    "print(\"=\"*100)"
   ]
  },
  {
   "cell_type": "markdown",
   "metadata": {
    "colab_type": "text",
    "id": "I5wDFj17sc3-"
   },
   "source": [
    "<h2> Appling Models on different kind of featurization as mentioned in the instructions</h2>"
   ]
  },
  {
   "cell_type": "markdown",
   "metadata": {},
   "source": [
    "# Set 1 Tf-idf"
   ]
  },
  {
   "cell_type": "markdown",
   "metadata": {},
   "source": [
    "## Hyper Parameter Tuning"
   ]
  },
  {
   "cell_type": "code",
   "execution_count": 264,
   "metadata": {},
   "outputs": [
    {
     "data": {
      "text/plain": [
       "GridSearchCV(cv=3, estimator=RandomForestClassifier(random_state=0),\n",
       "             param_grid={'max_depth': [1, 3, 10, 30],\n",
       "                         'min_samples_split': [5, 10, 100, 500]},\n",
       "             scoring='roc_auc')"
      ]
     },
     "execution_count": 264,
     "metadata": {},
     "output_type": "execute_result"
    }
   ],
   "source": [
    "from sklearn.ensemble import RandomForestClassifier\n",
    "from sklearn.model_selection import GridSearchCV\n",
    "\n",
    "params={'max_depth' : [1, 3, 10, 30], 'min_samples_split' : [5, 10, 100, 500]}\n",
    "classifier_RF=RandomForestClassifier(random_state=0)\n",
    "classifier=GridSearchCV(classifier_RF,params,cv=3,scoring='roc_auc')\n",
    "classifier.fit(X_train_tfidf,Y_train)"
   ]
  },
  {
   "cell_type": "markdown",
   "metadata": {},
   "source": [
    "## Plotting Heatmap"
   ]
  },
  {
   "cell_type": "code",
   "execution_count": 265,
   "metadata": {},
   "outputs": [
    {
     "data": {
      "image/png": "[encoded data removed]",
      "text/plain": [
       "<Figure size 1152x432 with 2 Axes>"
      ]
     },
     "metadata": {},
     "output_type": "display_data"
    }
   ],
   "source": [
    "import seaborn as sns\n",
    "import matplotlib.pyplot as plt\n",
    "import pandas as pd\n",
    "\n",
    "max_depth_list = list(classifier.cv_results_['param_max_depth'].data)\n",
    "min_samples_list = list(classifier.cv_results_['param_min_samples_split'].data)\n",
    "\n",
    "sns.set_style(\"whitegrid\")\n",
    "plt.figure(figsize=(16,6))\n",
    "\n",
    "data = pd.DataFrame(data={'Min Sample Split':min_samples_list, 'Max Depth':max_depth_list, 'AUC':classifier.cv_results_['mean_test_score']})\n",
    "data = data.pivot(index='Min Sample Split', columns='Max Depth', values='AUC')\n",
    "sns.heatmap(data, annot=True, cmap=\"YlGnBu\").set_title('AUC for Test data')\n",
    "plt.show()"
   ]
  },
  {
   "cell_type": "markdown",
   "metadata": {},
   "source": [
    "## Find the best parameters and fit the model."
   ]
  },
  {
   "cell_type": "code",
   "execution_count": 266,
   "metadata": {},
   "outputs": [
    {
     "name": "stdout",
     "output_type": "stream",
     "text": [
      "Value of best Min Samples are: 500\n",
      "Value of best Max depth is: 30\n",
      "Best Score is: 0.6582671929645669\n"
     ]
    }
   ],
   "source": [
    "best_min_samples_split = classifier.best_params_['min_samples_split']\n",
    "best_max_depth_value = classifier.best_params_['max_depth']\n",
    "best_score = classifier.best_score_\n",
    "\n",
    "print(\"Value of best Min Samples are:\",best_min_samples_split)\n",
    "print(\"Value of best Max depth is:\",best_max_depth_value)\n",
    "print(\"Best Score is:\",best_score)"
   ]
  },
  {
   "cell_type": "code",
   "execution_count": 267,
   "metadata": {},
   "outputs": [],
   "source": [
    "from sklearn.metrics import roc_curve, roc_auc_score\n",
    "\n",
    "model = RandomForestClassifier(max_depth=best_max_depth_value, min_samples_split=best_min_samples_split,class_weight='balanced',random_state=0)\n",
    "model.fit(X_train_tfidf,Y_train) \n",
    "# Used for task2 i.e. selecting k top features\n",
    "best_features_index_tfidf=model.feature_importances_.argsort()[::-1]"
   ]
  },
  {
   "cell_type": "markdown",
   "metadata": {},
   "source": [
    "## Plotting ROC-AUC curve"
   ]
  },
  {
   "cell_type": "code",
   "execution_count": 268,
   "metadata": {},
   "outputs": [
    {
     "name": "stdout",
     "output_type": "stream",
     "text": [
      "Training AUC Score: 0.9113114290796807\n",
      "Test AUC Score: 0.7008762992150342\n"
     ]
    },
    {
     "data": {
      "image/png": "[encoded data removed]",
      "text/plain": [
       "<Figure size 432x288 with 1 Axes>"
      ]
     },
     "metadata": {},
     "output_type": "display_data"
    }
   ],
   "source": [
    "train_predictions = model.predict_proba(X_train_tfidf)\n",
    "print(\"Training AUC Score:\",roc_auc_score(Y_train, train_predictions[:,1]))\n",
    "\n",
    "test_predictions = model.predict_proba(X_test_tfidf)\n",
    "print(\"Test AUC Score:\",roc_auc_score(Y_test, test_predictions[:,1]))\n",
    "\n",
    "fpr_train, tpr_train, train_threshold = roc_curve(Y_train, train_predictions[:,1])\n",
    "fpr_test, tpr_test, test_threshold = roc_curve(Y_test, test_predictions[:,1])\n",
    "\n",
    "plt.plot([0,1],[0,1],'r',label=\"Diagonal\")\n",
    "plt.plot(fpr_train, tpr_train,'g',label=\"Train ROC\")\n",
    "plt.plot(fpr_test, tpr_test,'b',label=\"Test ROC\")\n",
    "plt.xlabel('FPR')\n",
    "plt.ylabel('TPR')\n",
    "plt.legend()\n",
    "plt.title('ROC curve')\n",
    "plt.show()"
   ]
  },
  {
   "cell_type": "markdown",
   "metadata": {},
   "source": [
    "## Observations->\n",
    "Training AUC Score: 0.9113114290796807 and Test AUC Score: 0.7008762992150342. By this we can conclude that most probably our model is overfitting o the best values which are found by Grid Search"
   ]
  },
  {
   "cell_type": "markdown",
   "metadata": {},
   "source": [
    "## 11. Plotting Confusion Matrix"
   ]
  },
  {
   "cell_type": "code",
   "execution_count": 269,
   "metadata": {},
   "outputs": [],
   "source": [
    "def predict(proba, threshould, fpr, tpr):\n",
    "    t = threshould[np.argmax(tpr*(1-fpr))]\n",
    "    predictions = []\n",
    "    for i in proba:\n",
    "        if i>=t:\n",
    "            predictions.append(1)\n",
    "        else:\n",
    "            predictions.append(0)\n",
    "\n",
    "    return predictions"
   ]
  },
  {
   "cell_type": "code",
   "execution_count": 270,
   "metadata": {},
   "outputs": [
    {
     "name": "stdout",
     "output_type": "stream",
     "text": [
      "Confusion matrix\n"
     ]
    },
    {
     "data": {
      "text/plain": [
       "<matplotlib.axes._subplots.AxesSubplot at 0x2234eca42e8>"
      ]
     },
     "execution_count": 270,
     "metadata": {},
     "output_type": "execute_result"
    },
    {
     "data": {
      "image/png": "[encoded data removed]",
      "text/plain": [
       "<Figure size 432x288 with 2 Axes>"
      ]
     },
     "metadata": {},
     "output_type": "display_data"
    }
   ],
   "source": [
    "from sklearn.metrics import confusion_matrix\n",
    "print(\"Confusion matrix\")\n",
    "conf_matr_df_train = pd.DataFrame(confusion_matrix(Y_test, predict(test_predictions[:,1], test_threshold, fpr_test, tpr_test)), range(2),range(2))\n",
    "sns.set(font_scale=1.4)#for label size\n",
    "sns.heatmap(conf_matr_df_train, annot=True,annot_kws={\"size\": 26}, fmt='g',cmap=\"YlGnBu\")"
   ]
  },
  {
   "cell_type": "markdown",
   "metadata": {},
   "source": [
    "# Set-2 Tf-idf w2v"
   ]
  },
  {
   "cell_type": "code",
   "execution_count": 271,
   "metadata": {},
   "outputs": [
    {
     "name": "stdout",
     "output_type": "stream",
     "text": [
      "Final Data matrix\n",
      "(23450, 316) (23450,)\n",
      "(11550, 316) (11550,)\n",
      "====================================================================================================\n"
     ]
    }
   ],
   "source": [
    "from scipy.sparse import hstack\n",
    "\n",
    "X_train_tfidf_w2v = np.hstack((X_train_essay_tfidf_w2v,X_train_school_state_0_norm,X_train_school_state_1_norm, X_train_teacherPrefix_0_norm, X_train_teacherPrefix_1_norm, X_train_projectGrade_0_norm, X_train_projectGrade_1_norm, X_train_clean_categories_0_norm,X_train_clean_categories_1_norm, X_train_clean_subcategories_0_norm, X_train_clean_subcategories_1_norm\t,X_train_price_norm,X_train_teacher_number_norm, X_train_negative_sentiment_value_norm, X_train_positive_sentiment_value_norm, X_train_neutral_sentiment_value_norm, X_train_compound_sentiment_value_norm))\n",
    "\n",
    "X_test_tfidf_w2v = np.hstack((X_test_essay_tfidf_w2v,X_test_school_state_0_norm,X_test_school_state_1_norm, X_test_teacherPrefix_0_norm, X_test_teacherPrefix_1_norm, X_test_projectGrade_0_norm, X_test_projectGrade_1_norm, X_test_clean_categories_0_norm,X_test_clean_categories_1_norm, X_test_clean_subcategories_0_norm, X_test_clean_subcategories_1_norm\t,X_test_price_norm,X_test_teacher_number_norm, X_test_negative_sentiment_value_norm, X_test_positive_sentiment_value_norm, X_test_neutral_sentiment_value_norm, X_test_compound_sentiment_value_norm))\n",
    "\n",
    "print(\"Final Data matrix\")\n",
    "print(X_train_tfidf_w2v.shape, Y_train.shape)\n",
    "#print(X_cv_tfidf.shape, Y_cv.shape)\n",
    "print(X_test_tfidf_w2v.shape, Y_test.shape)\n",
    "print(\"=\"*100)"
   ]
  },
  {
   "cell_type": "markdown",
   "metadata": {},
   "source": [
    "## Hyper parameter Tuning"
   ]
  },
  {
   "cell_type": "code",
   "execution_count": 272,
   "metadata": {},
   "outputs": [
    {
     "data": {
      "text/plain": [
       "GridSearchCV(cv=3, estimator=DecisionTreeClassifier(random_state=0),\n",
       "             param_grid={'max_depth': [1, 3, 10, 30],\n",
       "                         'min_samples_split': [5, 10, 100, 500]},\n",
       "             scoring='roc_auc')"
      ]
     },
     "execution_count": 272,
     "metadata": {},
     "output_type": "execute_result"
    }
   ],
   "source": [
    "from sklearn.tree import DecisionTreeClassifier\n",
    "from sklearn.model_selection import GridSearchCV\n",
    "\n",
    "params={'max_depth' : [1, 3, 10, 30], 'min_samples_split' : [5, 10, 100, 500]}\n",
    "\n",
    "classifier_DT= DecisionTreeClassifier(random_state=0)\n",
    "classifier=GridSearchCV(classifier_DT,params,cv=3,scoring='roc_auc')\n",
    "classifier.fit(X_train_tfidf_w2v,Y_train)\n"
   ]
  },
  {
   "cell_type": "markdown",
   "metadata": {},
   "source": [
    "## Plotting Heatmap"
   ]
  },
  {
   "cell_type": "code",
   "execution_count": 273,
   "metadata": {},
   "outputs": [
    {
     "data": {
      "image/png": "[encoded data removed]",
      "text/plain": [
       "<Figure size 1152x432 with 2 Axes>"
      ]
     },
     "metadata": {},
     "output_type": "display_data"
    }
   ],
   "source": [
    "max_depth_list = list(classifier.cv_results_['param_max_depth'].data)\n",
    "min_samples_list = list(classifier.cv_results_['param_min_samples_split'].data)\n",
    "\n",
    "sns.set_style(\"whitegrid\")\n",
    "plt.figure(figsize=(16,6))\n",
    "\n",
    "data = pd.DataFrame(data={'Min Sample Split':min_samples_list, 'Max Depth':max_depth_list, 'AUC':classifier.cv_results_['mean_test_score']})\n",
    "data = data.pivot(index='Min Sample Split', columns='Max Depth', values='AUC')\n",
    "sns.heatmap(data, annot=True, cmap=\"YlGnBu\").set_title('AUC for Test data')\n",
    "plt.show()"
   ]
  },
  {
   "cell_type": "markdown",
   "metadata": {},
   "source": [
    "## Find the best parameters and fit the model."
   ]
  },
  {
   "cell_type": "code",
   "execution_count": 274,
   "metadata": {},
   "outputs": [
    {
     "name": "stdout",
     "output_type": "stream",
     "text": [
      "Value of best Min Samples are: 500\n",
      "Value of best Max depth is: 10\n",
      "Best Score is: 0.5960111882558982\n"
     ]
    }
   ],
   "source": [
    "best_min_samples_split = classifier.best_params_['min_samples_split']\n",
    "best_max_depth_value = classifier.best_params_['max_depth']\n",
    "best_score = classifier.best_score_\n",
    "\n",
    "print(\"Value of best Min Samples are:\",best_min_samples_split)\n",
    "print(\"Value of best Max depth is:\",best_max_depth_value)\n",
    "print(\"Best Score is:\",best_score)"
   ]
  },
  {
   "cell_type": "code",
   "execution_count": 275,
   "metadata": {},
   "outputs": [],
   "source": [
    "from sklearn.metrics import roc_curve, roc_auc_score\n",
    "\n",
    "model = DecisionTreeClassifier(max_depth=best_max_depth_value, min_samples_split=best_min_samples_split,class_weight='balanced',random_state=0)\n",
    "model.fit(X_train_tfidf_w2v,Y_train) \n",
    "# Used for task2 i.e. selecting k top features\n",
    "best_features_index_tfidf=model.feature_importances_.argsort()[::-1]"
   ]
  },
  {
   "cell_type": "markdown",
   "metadata": {},
   "source": [
    "## Plotting ROC-AUC curve"
   ]
  },
  {
   "cell_type": "code",
   "execution_count": 276,
   "metadata": {},
   "outputs": [
    {
     "name": "stdout",
     "output_type": "stream",
     "text": [
      "Training AUC Score: 0.7331841796264078\n",
      "Test AUC Score: 0.5901846904207952\n"
     ]
    },
    {
     "data": {
      "image/png": "[encoded data removed]",
      "text/plain": [
       "<Figure size 432x288 with 1 Axes>"
      ]
     },
     "metadata": {},
     "output_type": "display_data"
    }
   ],
   "source": [
    "train_predictions = model.predict_proba(X_train_tfidf_w2v)\n",
    "print(\"Training AUC Score:\",roc_auc_score(Y_train, train_predictions[:,1]))\n",
    "\n",
    "test_predictions = model.predict_proba(X_test_tfidf_w2v)\n",
    "print(\"Test AUC Score:\",roc_auc_score(Y_test, test_predictions[:,1]))\n",
    "\n",
    "fpr_train, tpr_train, train_threshold = roc_curve(Y_train, train_predictions[:,1])\n",
    "fpr_test, tpr_test, test_threshold = roc_curve(Y_test, test_predictions[:,1])\n",
    "\n",
    "plt.plot([0,1],[0,1],'r',label=\"Diagonal\")\n",
    "plt.plot(fpr_train, tpr_train,'g',label=\"Train ROC\")\n",
    "plt.plot(fpr_test, tpr_test,'b',label=\"Test ROC\")\n",
    "plt.xlabel('FPR')\n",
    "plt.ylabel('TPR')\n",
    "plt.legend()\n",
    "plt.title('ROC curve')\n",
    "plt.show()"
   ]
  },
  {
   "cell_type": "markdown",
   "metadata": {},
   "source": [
    "## Observations->\n",
    "Training AUC Score: 0.7331841796264078 and Test AUC Score: 0.5901846904207952. Train AUC is less than that of previous one but this model's differnece in train and test AUC is less but still value is high. It is also a highly overfit model"
   ]
  },
  {
   "cell_type": "markdown",
   "metadata": {},
   "source": [
    "## Plotting Confusion Matrix"
   ]
  },
  {
   "cell_type": "code",
   "execution_count": 277,
   "metadata": {},
   "outputs": [
    {
     "name": "stdout",
     "output_type": "stream",
     "text": [
      "Confusion matrix\n"
     ]
    },
    {
     "data": {
      "text/plain": [
       "<matplotlib.axes._subplots.AxesSubplot at 0x2239b6476d8>"
      ]
     },
     "execution_count": 277,
     "metadata": {},
     "output_type": "execute_result"
    },
    {
     "data": {
      "image/png": "[encoded data removed]",
      "text/plain": [
       "<Figure size 432x288 with 2 Axes>"
      ]
     },
     "metadata": {},
     "output_type": "display_data"
    }
   ],
   "source": [
    "from sklearn.metrics import confusion_matrix\n",
    "print(\"Confusion matrix\")\n",
    "conf_matr_df_train = pd.DataFrame(confusion_matrix(Y_test, predict(test_predictions[:,1], test_threshold, fpr_test, tpr_test)), range(2),range(2))\n",
    "sns.set(font_scale=1.4)#for label size\n",
    "sns.heatmap(conf_matr_df_train, annot=True,annot_kws={\"size\": 26}, fmt='g',cmap=\"YlGnBu\")"
   ]
  },
  {
   "cell_type": "markdown",
   "metadata": {
    "colab_type": "text",
    "id": "YhFN-lDWsc4G"
   },
   "source": [
    "<h1>3. Summary</h1>\n"
   ]
  },
  {
   "cell_type": "code",
   "execution_count": 278,
   "metadata": {},
   "outputs": [
    {
     "name": "stdout",
     "output_type": "stream",
     "text": [
      "+------------------+----------------------------+-----------+----------+\n",
      "|      Model       |      Hyper-Parameter       | Train_AUC | Test_AUC |\n",
      "+------------------+----------------------------+-----------+----------+\n",
      "|   TF-IDF Model   | Depth:10, sample-split:500 |    0.91   |   0.70   |\n",
      "| TF-IDF W2V Model | Depth:10, sample-split:500 |    0.73   |   0.59   |\n",
      "+------------------+----------------------------+-----------+----------+\n"
     ]
    }
   ],
   "source": [
    "from prettytable import PrettyTable\n",
    "TB=PrettyTable()\n",
    "TB.field_names=[\"Model\",\"Hyper-Parameter\",\"Train_AUC\",\"Test_AUC\"]\n",
    "TB.add_row([\"TF-IDF Model\",\"Depth:10, sample-split:500\",\"0.91\",\"0.70\"])\n",
    "TB.add_row([\"TF-IDF W2V Model\",\"Depth:10, sample-split:500\",\"0.73\",\"0.59\"])\n",
    "print(TB)"
   ]
  },
  {
   "cell_type": "code",
   "execution_count": null,
   "metadata": {},
   "outputs": [],
   "source": []
  }
 ],
 "metadata": {
  "colab": {
   "collapsed_sections": [],
   "name": "11_Assignment_GBDT_Instructions.ipynb",
   "provenance": [],
   "version": "0.3.2"
  },
  "kernelspec": {
   "display_name": "Python 3",
   "language": "python",
   "name": "python3"
  },
  "language_info": {
   "codemirror_mode": {
    "name": "ipython",
    "version": 3
   },
   "file_extension": ".py",
   "mimetype": "text/x-python",
   "name": "python",
   "nbconvert_exporter": "python",
   "pygments_lexer": "ipython3",
   "version": "3.6.5"
  }
 },
 "nbformat": 4,
 "nbformat_minor": 1
}
