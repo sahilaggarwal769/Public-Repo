{
 "cells": [
  {
   "cell_type": "markdown",
   "metadata": {
    "id": "s0Ej_bXyQvnV"
   },
   "source": [
    "# Compute performance metrics for the given Y and Y_score without sklearn"
   ]
  },
  {
   "cell_type": "code",
   "execution_count": 1,
   "metadata": {
    "id": "4CHb6NE7Qvnc"
   },
   "outputs": [],
   "source": [
    "import numpy as np\n",
    "import pandas as pd\n",
    "# other than these two you should not import any other packages"
   ]
  },
  {
   "cell_type": "markdown",
   "metadata": {
    "id": "KbsWXuDaQvnq"
   },
   "source": [
    "\n",
    "## A. Compute performance metrics for the given data '5_a.csv'\n",
    " <pre>  <b>Note 1:</b> in this data you can see number of positive points >> number of negatives points\n",
    "   <b>Note 2:</b> use pandas or numpy to read the data from <b>5_a.csv</b>\n",
    "   <b>Note 3:</b> you need to derive the class labels from given score</pre> $y^{pred}= \\text{[0 if y_score < 0.5 else 1]}$\n",
    "\n",
    "<pre>\n",
    "<ol>\n",
    "<li> Compute Confusion Matrix </li>\n",
    "<li> Compute F1 Score </li>\n",
    "<li> Compute AUC Score, you need to compute different thresholds and for each threshold compute tpr,fpr and then use               numpy.trapz(tpr_array, fpr_array) <a href='https://stackoverflow.com/q/53603376/4084039'>https://stackoverflow.com/q/53603376/4084039</a>, <a href='https://stackoverflow.com/a/39678975/4084039'>https://stackoverflow.com/a/39678975/4084039</a> Note: it should be numpy.trapz(tpr_array, fpr_array) not numpy.trapz(fpr_array, tpr_array)\n",
    "Note- Make sure that you arrange your probability scores in descending order while calculating AUC</li>\n",
    "<li> Compute Accuracy Score </li>\n",
    "</ol>\n",
    "</pre>"
   ]
  },
  {
   "cell_type": "code",
   "execution_count": 21,
   "metadata": {
    "id": "WaFLW7oBQvnt"
   },
   "outputs": [
    {
     "name": "stdout",
     "output_type": "stream",
     "text": [
      "     y     proba\n",
      "0  1.0  0.637387\n",
      "1  1.0  0.635165\n",
      "2  1.0  0.766586\n",
      "3  1.0  0.724564\n",
      "4  1.0  0.889199\n"
     ]
    }
   ],
   "source": [
    "df_a=pd.read_csv('5_a.csv')\n",
    "print(df_a.head())"
   ]
  },
  {
   "cell_type": "code",
   "execution_count": 22,
   "metadata": {
    "id": "yg8uUJvGAfCM"
   },
   "outputs": [
    {
     "name": "stdout",
     "output_type": "stream",
     "text": [
      "     y     proba  predicted\n",
      "0  1.0  0.637387        1.0\n",
      "1  1.0  0.635165        1.0\n",
      "2  1.0  0.766586        1.0\n",
      "3  1.0  0.724564        1.0\n",
      "4  1.0  0.889199        1.0\n"
     ]
    }
   ],
   "source": [
    "# write your code here for task A\n",
    "df_a['predicted']=np.where(df_a['proba']>=0.5,float(1),float(0))\n",
    "#print(df_a['predicted'])\n",
    "print(df_a.head())\n",
    "df = df_a.loc[df_a['predicted'] == 1 ]\n",
    "#print(df.shape)"
   ]
  },
  {
   "cell_type": "code",
   "execution_count": 23,
   "metadata": {},
   "outputs": [],
   "source": [
    "def calc_confusion_matrix(actual_y,predicted_y):\n",
    "    unique_values=np.unique(actual_y)[::-1]\n",
    "    l=[]\n",
    "    #print(unique_values)\n",
    "    conf_matrix=np.zeros((len(unique_values),len(unique_values)))\n",
    "    for i in range(len(unique_values)):\n",
    "        for j in range(len(unique_values)):\n",
    "            conf_matrix[i,j]=np.sum((actual_y==unique_values[j])&(predicted_y==unique_values[i]))\n",
    "            l.append(conf_matrix[i,j])\n",
    "    return conf_matrix,l"
   ]
  },
  {
   "cell_type": "markdown",
   "metadata": {},
   "source": [
    "## Calculating Confusion Matrix"
   ]
  },
  {
   "cell_type": "code",
   "execution_count": 24,
   "metadata": {},
   "outputs": [
    {
     "name": "stdout",
     "output_type": "stream",
     "text": [
      "Confusion matrix=\n",
      " [[10000.   100.]\n",
      " [    0.     0.]]\n"
     ]
    }
   ],
   "source": [
    "conf_matrix,l=calc_confusion_matrix(df_a['y'].values,df_a['predicted'].values)\n",
    "print(\"Confusion matrix=\\n\",conf_matrix)\n",
    "#print(l)"
   ]
  },
  {
   "cell_type": "markdown",
   "metadata": {},
   "source": [
    "## Calculating F1-Score And Accuracy Score"
   ]
  },
  {
   "cell_type": "code",
   "execution_count": 25,
   "metadata": {},
   "outputs": [
    {
     "name": "stdout",
     "output_type": "stream",
     "text": [
      "f1_score= 0.9950248756218906\n",
      "Accuracy Score= 0.9900990099009901\n"
     ]
    }
   ],
   "source": [
    "tp=l[0]\n",
    "fp=l[1]\n",
    "fn=l[2]\n",
    "tn=l[3]\n",
    "precision=tp/(tp+fp)\n",
    "recall=tp/(tp+fn)\n",
    "f1_score=(2*precision*recall)/(precision+recall)\n",
    "accuracy=(tp+tn)/(tp+fp+tn+fn)\n",
    "#print(\"precision=\",precision)\n",
    "#print(\"recall=\",recall)\n",
    "print(\"f1_score=\",f1_score)\n",
    "print(\"Accuracy Score=\",accuracy)\n"
   ]
  },
  {
   "cell_type": "code",
   "execution_count": 26,
   "metadata": {},
   "outputs": [],
   "source": [
    "def tpr_fpr(df):\n",
    "    \n",
    "    tp = ((df['y'] == 1.0 ) & (df['predicted'] == 1.)).sum()\n",
    "    fp = ((df['y'] == 0.0 ) & (df['predicted'] == 1.)).sum()\n",
    "    tn = ((df['y'] == 0.0 ) & (df['predicted'] == 0.)).sum()\n",
    "    fn = ((df['y'] == 1.0 ) & (df['predicted'] == 0.)).sum()\n",
    "\n",
    "    tpr = tp / (tp + fn )\n",
    "    fpr = fp / (fp + tn)\n",
    "\n",
    "    return [tpr, fpr]\n",
    "\n",
    "def calculate_tpr_fpr(df):\n",
    "    tpr=[]\n",
    "    fpr=[]\n",
    "    #print(df.sort_values(['proba'],ascending=False))\n",
    "    sorted_values=df.sort_values(['proba'],ascending=False)\n",
    "    sorted_unique_values=sorted_values['proba'].unique()\n",
    "    for i in sorted_unique_values:\n",
    "        sorted_values['predicted']=np.where(sorted_values['proba']>=i,float(1),float(0))\n",
    "        tpr_fpr_array=tpr_fpr(sorted_values)\n",
    "        tpr.append(tpr_fpr_array[0])\n",
    "        fpr.append(tpr_fpr_array[1])\n",
    "    return tpr,fpr"
   ]
  },
  {
   "cell_type": "markdown",
   "metadata": {},
   "source": [
    "## Calculating AUC Score"
   ]
  },
  {
   "cell_type": "code",
   "execution_count": 27,
   "metadata": {},
   "outputs": [
    {
     "name": "stdout",
     "output_type": "stream",
     "text": [
      "0.48829900000000004\n"
     ]
    }
   ],
   "source": [
    "tpr,fpr=calculate_tpr_fpr(df_a)\n",
    "auc_score=np.trapz(tpr,fpr)\n",
    "print(auc_score)"
   ]
  },
  {
   "cell_type": "markdown",
   "metadata": {},
   "source": [
    "## Plotting AUC"
   ]
  },
  {
   "cell_type": "code",
   "execution_count": 28,
   "metadata": {},
   "outputs": [
    {
     "data": {
      "image/png": "[encoded data removed]",
      "text/plain": [
       "<Figure size 432x288 with 1 Axes>"
      ]
     },
     "metadata": {},
     "output_type": "display_data"
    }
   ],
   "source": [
    "import matplotlib.pyplot as plt\n",
    "#computed AUC\n",
    "plt.plot(fpr,tpr,label=\"ROC Curve\")\n",
    "#default AUC for mean case\n",
    "plt.plot([0,1],[0,1],label=\"Mid Point\")\n",
    "plt.xlabel(\"FPR\")\n",
    "plt.ylabel(\"TPR\")\n",
    "plt.title(\"Area Under ROC\")\n",
    "plt.legend()\n",
    "plt.show()"
   ]
  },
  {
   "cell_type": "markdown",
   "metadata": {},
   "source": [
    "# Task B"
   ]
  },
  {
   "cell_type": "markdown",
   "metadata": {
    "id": "V5KZem1BQvn2"
   },
   "source": [
    "\n",
    "\n",
    "## B. Compute performance metrics for the given data '5_b.csv'\n",
    "<pre>\n",
    "   <b>Note 1:</b> in this data you can see number of positive points << number of negatives points\n",
    "   <b>Note 2:</b> use pandas or numpy to read the data from <b>5_b.csv</b>\n",
    "   <b>Note 3:</b> you need to derive the class labels from given score</pre> $y^{pred}= \\text{[0 if y_score < 0.5 else 1]}$\n",
    "\n",
    "<pre>\n",
    "<ol>\n",
    "<li> Compute Confusion Matrix </li>\n",
    "<li> Compute F1 Score </li>\n",
    "<li> Compute AUC Score, you need to compute different thresholds and for each threshold compute tpr,fpr and then use               numpy.trapz(tpr_array, fpr_array) <a href='https://stackoverflow.com/q/53603376/4084039'>https://stackoverflow.com/q/53603376/4084039</a>, <a href='https://stackoverflow.com/a/39678975/4084039'>https://stackoverflow.com/a/39678975/4084039</a>\n",
    "Note- Make sure that you arrange your probability scores in descending order while calculating AUC</li>\n",
    "<li> Compute Accuracy Score </li>\n",
    "</ol>\n",
    "</pre>"
   ]
  },
  {
   "cell_type": "code",
   "execution_count": 29,
   "metadata": {
    "id": "U2sKlq0YQvn5"
   },
   "outputs": [
    {
     "data": {
      "text/html": [
       "<div>\n",
       "<style scoped>\n",
       "    .dataframe tbody tr th:only-of-type {\n",
       "        vertical-align: middle;\n",
       "    }\n",
       "\n",
       "    .dataframe tbody tr th {\n",
       "        vertical-align: top;\n",
       "    }\n",
       "\n",
       "    .dataframe thead th {\n",
       "        text-align: right;\n",
       "    }\n",
       "</style>\n",
       "<table border=\"1\" class=\"dataframe\">\n",
       "  <thead>\n",
       "    <tr style=\"text-align: right;\">\n",
       "      <th></th>\n",
       "      <th>y</th>\n",
       "      <th>proba</th>\n",
       "    </tr>\n",
       "  </thead>\n",
       "  <tbody>\n",
       "    <tr>\n",
       "      <th>0</th>\n",
       "      <td>0.0</td>\n",
       "      <td>0.281035</td>\n",
       "    </tr>\n",
       "    <tr>\n",
       "      <th>1</th>\n",
       "      <td>0.0</td>\n",
       "      <td>0.465152</td>\n",
       "    </tr>\n",
       "    <tr>\n",
       "      <th>2</th>\n",
       "      <td>0.0</td>\n",
       "      <td>0.352793</td>\n",
       "    </tr>\n",
       "    <tr>\n",
       "      <th>3</th>\n",
       "      <td>0.0</td>\n",
       "      <td>0.157818</td>\n",
       "    </tr>\n",
       "    <tr>\n",
       "      <th>4</th>\n",
       "      <td>0.0</td>\n",
       "      <td>0.276648</td>\n",
       "    </tr>\n",
       "  </tbody>\n",
       "</table>\n",
       "</div>"
      ],
      "text/plain": [
       "     y     proba\n",
       "0  0.0  0.281035\n",
       "1  0.0  0.465152\n",
       "2  0.0  0.352793\n",
       "3  0.0  0.157818\n",
       "4  0.0  0.276648"
      ]
     },
     "execution_count": 29,
     "metadata": {},
     "output_type": "execute_result"
    }
   ],
   "source": [
    "df_b=pd.read_csv('5_b.csv')\n",
    "df_b.head()"
   ]
  },
  {
   "cell_type": "code",
   "execution_count": 30,
   "metadata": {
    "id": "xlLVa-cVAfCS"
   },
   "outputs": [
    {
     "name": "stdout",
     "output_type": "stream",
     "text": [
      "     y     proba  predicted\n",
      "0  0.0  0.281035        0.0\n",
      "1  0.0  0.465152        0.0\n",
      "2  0.0  0.352793        0.0\n",
      "3  0.0  0.157818        0.0\n",
      "4  0.0  0.276648        0.0\n",
      "(9806, 3)\n"
     ]
    }
   ],
   "source": [
    "# write your code here for task B\n",
    "df_b['predicted']=np.where(df_b['proba']>=0.5,float(1),float(0))\n",
    "#print(df_a['predicted'])\n",
    "print(df_b.head())\n",
    "df = df_b.loc[df_b['predicted'] == 0 ]\n",
    "print(df.shape)"
   ]
  },
  {
   "cell_type": "markdown",
   "metadata": {},
   "source": [
    "## Calculating Confusion Matrix"
   ]
  },
  {
   "cell_type": "code",
   "execution_count": 31,
   "metadata": {},
   "outputs": [
    {
     "name": "stdout",
     "output_type": "stream",
     "text": [
      "Confusion matrix=\n",
      " [[  55.  239.]\n",
      " [  45. 9761.]]\n"
     ]
    }
   ],
   "source": [
    "conf_matrix,l=calc_confusion_matrix(df_b['y'].values,df_b['predicted'].values)\n",
    "print(\"Confusion matrix=\\n\",conf_matrix)\n",
    "#print(l)"
   ]
  },
  {
   "cell_type": "markdown",
   "metadata": {},
   "source": [
    "## Calculating F1-Score And Accuracy Score"
   ]
  },
  {
   "cell_type": "code",
   "execution_count": 32,
   "metadata": {},
   "outputs": [
    {
     "name": "stdout",
     "output_type": "stream",
     "text": [
      "f1_score= 0.2791878172588833\n",
      "Accuracy Score= 0.9718811881188119\n"
     ]
    }
   ],
   "source": [
    "tp=l[0]\n",
    "fp=l[1]\n",
    "fn=l[2]\n",
    "tn=l[3]\n",
    "precision=tp/(tp+fp)\n",
    "recall=tp/(tp+fn)\n",
    "f1_score=(2*precision*recall)/(precision+recall)\n",
    "accuracy=(tp+tn)/(tp+fp+tn+fn)\n",
    "#print(\"precision=\",precision)\n",
    "#print(\"recall=\",recall)\n",
    "print(\"f1_score=\",f1_score)\n",
    "print(\"Accuracy Score=\",accuracy)"
   ]
  },
  {
   "cell_type": "markdown",
   "metadata": {},
   "source": [
    "## Calculating AUC Score"
   ]
  },
  {
   "cell_type": "code",
   "execution_count": 34,
   "metadata": {},
   "outputs": [
    {
     "name": "stdout",
     "output_type": "stream",
     "text": [
      "0.9377570000000001\n"
     ]
    }
   ],
   "source": [
    "tpr,fpr=calculate_tpr_fpr(df_b)\n",
    "auc_score=np.trapz(tpr,fpr)\n",
    "print(auc_score)"
   ]
  },
  {
   "cell_type": "markdown",
   "metadata": {},
   "source": [
    "## Plotting AUC"
   ]
  },
  {
   "cell_type": "code",
   "execution_count": 35,
   "metadata": {},
   "outputs": [
    {
     "data": {
      "image/png": "[encoded data removed]",
      "text/plain": [
       "<Figure size 432x288 with 1 Axes>"
      ]
     },
     "metadata": {},
     "output_type": "display_data"
    }
   ],
   "source": [
    "plt.plot(fpr,tpr,label=\"ROC Curve\")\n",
    "#default AUC for mean case\n",
    "plt.plot([0,1],[0,1],label=\"Mid Point\")\n",
    "plt.xlabel(\"FPR\")\n",
    "plt.ylabel(\"TPR\")\n",
    "plt.title(\"Area Under ROC\")\n",
    "plt.legend()\n",
    "plt.show()"
   ]
  },
  {
   "cell_type": "markdown",
   "metadata": {},
   "source": [
    "## Observation-> \n",
    "Here as we can see value of f1-score is very less but the dataset 5_a and 5_b are both similar in a way that they are inbalanced.\n",
    "This is because f1-score only depends on TP. It does not depend on TN. "
   ]
  },
  {
   "cell_type": "markdown",
   "metadata": {},
   "source": [
    "# Task C"
   ]
  },
  {
   "cell_type": "markdown",
   "metadata": {
    "id": "GiPGonTzQvoB"
   },
   "source": [
    "### C. Compute the best threshold (similarly to ROC curve computation) of probability which gives lowest values of metric <b>A</b> for the given data \n",
    "<br>\n",
    "\n",
    "you will be predicting label of a data points like this: $y^{pred}= \\text{[0 if y_score < threshold  else 1]}$\n",
    "\n",
    "$ A = 500 \\times \\text{number of false negative} + 100 \\times \\text{numebr of false positive}$\n",
    "\n",
    "<pre>\n",
    "   <b>Note 1:</b> in this data you can see number of negative points > number of positive points\n",
    "   <b>Note 2:</b> use pandas or numpy to read the data from <b>5_c.csv</b>\n",
    "</pre>"
   ]
  },
  {
   "cell_type": "code",
   "execution_count": 36,
   "metadata": {
    "id": "x5HIJzq1QvoE"
   },
   "outputs": [
    {
     "data": {
      "text/html": [
       "<div>\n",
       "<style scoped>\n",
       "    .dataframe tbody tr th:only-of-type {\n",
       "        vertical-align: middle;\n",
       "    }\n",
       "\n",
       "    .dataframe tbody tr th {\n",
       "        vertical-align: top;\n",
       "    }\n",
       "\n",
       "    .dataframe thead th {\n",
       "        text-align: right;\n",
       "    }\n",
       "</style>\n",
       "<table border=\"1\" class=\"dataframe\">\n",
       "  <thead>\n",
       "    <tr style=\"text-align: right;\">\n",
       "      <th></th>\n",
       "      <th>y</th>\n",
       "      <th>prob</th>\n",
       "    </tr>\n",
       "  </thead>\n",
       "  <tbody>\n",
       "    <tr>\n",
       "      <th>0</th>\n",
       "      <td>0</td>\n",
       "      <td>0.458521</td>\n",
       "    </tr>\n",
       "    <tr>\n",
       "      <th>1</th>\n",
       "      <td>0</td>\n",
       "      <td>0.505037</td>\n",
       "    </tr>\n",
       "    <tr>\n",
       "      <th>2</th>\n",
       "      <td>0</td>\n",
       "      <td>0.418652</td>\n",
       "    </tr>\n",
       "    <tr>\n",
       "      <th>3</th>\n",
       "      <td>0</td>\n",
       "      <td>0.412057</td>\n",
       "    </tr>\n",
       "    <tr>\n",
       "      <th>4</th>\n",
       "      <td>0</td>\n",
       "      <td>0.375579</td>\n",
       "    </tr>\n",
       "  </tbody>\n",
       "</table>\n",
       "</div>"
      ],
      "text/plain": [
       "   y      prob\n",
       "0  0  0.458521\n",
       "1  0  0.505037\n",
       "2  0  0.418652\n",
       "3  0  0.412057\n",
       "4  0  0.375579"
      ]
     },
     "execution_count": 36,
     "metadata": {},
     "output_type": "execute_result"
    }
   ],
   "source": [
    "df_c=pd.read_csv('5_c.csv')\n",
    "df_c.head()"
   ]
  },
  {
   "cell_type": "code",
   "execution_count": 37,
   "metadata": {
    "id": "eAPjewjzAfCa"
   },
   "outputs": [],
   "source": [
    "# write your code for task C\n",
    "def finding_a(df):\n",
    "    \n",
    "    tp = ((df['y'] == 1.0 ) & (df['predicted'] == 1.)).sum()\n",
    "    fp = ((df['y'] == 0.0 ) & (df['predicted'] == 1.)).sum()\n",
    "    tn = ((df['y'] == 0.0 ) & (df['predicted'] == 0.)).sum()\n",
    "    fn = ((df['y'] == 1.0 ) & (df['predicted'] == 0.)).sum()\n",
    "\n",
    "    a=500*fn+100*fp\n",
    "    return a\n",
    "\n",
    "def calculate_min_thresh(df):\n",
    "    # float('inf') used for infinity\n",
    "    min_a=float('inf')\n",
    "    min_thresh=0\n",
    "    #print(df.sort_values(['proba'],ascending=False))\n",
    "    sorted_values=df.sort_values(['prob'],ascending=False)\n",
    "    sorted_unique_values=sorted_values['prob'].unique()\n",
    "    for i in sorted_unique_values:\n",
    "        sorted_values['predicted']=np.where(sorted_values['prob']>=i,float(1),float(0))\n",
    "        a=finding_a(sorted_values)\n",
    "        if(a<=min_a):\n",
    "            #print(\"helo\")\n",
    "            min_a=a\n",
    "            min_thresh=i\n",
    "    return min_a,min_thresh"
   ]
  },
  {
   "cell_type": "markdown",
   "metadata": {},
   "source": [
    "## Minimum Threshold"
   ]
  },
  {
   "cell_type": "code",
   "execution_count": 38,
   "metadata": {},
   "outputs": [
    {
     "data": {
      "text/plain": [
       "(141000, 0.2300390278970873)"
      ]
     },
     "execution_count": 38,
     "metadata": {},
     "output_type": "execute_result"
    }
   ],
   "source": [
    "calculate_min_thresh(df_c)"
   ]
  },
  {
   "cell_type": "markdown",
   "metadata": {},
   "source": [
    "# Task D"
   ]
  },
  {
   "cell_type": "markdown",
   "metadata": {
    "id": "sD4CcgjXQvoL"
   },
   "source": [
    "\n",
    "## D.</b></font> Compute performance metrics(for regression) for the given data 5_d.csv\n",
    "<pre>    <b>Note 2:</b> use pandas or numpy to read the data from <b>5_d.csv</b>\n",
    "    <b>Note 1:</b> <b>5_d.csv</b> will having two columns Y and predicted_Y both are real valued features\n",
    "<ol>\n",
    "<li> Compute Mean Square Error </li>\n",
    "<li> Compute MAPE: https://www.youtube.com/watch?v=ly6ztgIkUxk</li>\n",
    "<li> Compute R^2 error: https://en.wikipedia.org/wiki/Coefficient_of_determination#Definitions </li>\n",
    "</ol>\n",
    "</pre>"
   ]
  },
  {
   "cell_type": "code",
   "execution_count": 39,
   "metadata": {
    "id": "sVOj-bF9AfCd"
   },
   "outputs": [],
   "source": [
    "df_d=pd.read_csv('5_d.csv')\n",
    "df_d.head()\n",
    "\n",
    "df = df_d.loc[df_d['y']==0 ]\n",
    "#print(df.shape)"
   ]
  },
  {
   "cell_type": "markdown",
   "metadata": {},
   "source": [
    "## Calculating MSE, MAPE, R2 Error"
   ]
  },
  {
   "cell_type": "code",
   "execution_count": 40,
   "metadata": {
    "id": "uRhL1pheAfCe"
   },
   "outputs": [
    {
     "name": "stdout",
     "output_type": "stream",
     "text": [
      "Mean Sqared Error= 177.16569974554707\n",
      "Mean Absolute percentage Error= 12.91202994009687\n",
      "R2 Error= 0.9563582786990937\n"
     ]
    }
   ],
   "source": [
    "# write your code for task 5d\n",
    "def calculate_r2(df):\n",
    "    #print(df.shape)\n",
    "    ss_resi=((df['y']-df['pred'])**2).sum()\n",
    "    ss_total=((df['y']-df['y'].mean())**2).sum()\n",
    "    mse=ss_resi/df.shape[0]\n",
    "    mape=((abs(df['y']-df['pred'])/df['y'].mean())*100).sum()/df.shape[0]\n",
    "    print(\"Mean Sqared Error=\",mse)\n",
    "    print(\"Mean Absolute percentage Error=\",mape)\n",
    "    print(\"R2 Error=\",1-(ss_resi/ss_total))\n",
    "    return \n",
    "\n",
    "calculate_r2(df_d)\n",
    "    "
   ]
  },
  {
   "cell_type": "code",
   "execution_count": null,
   "metadata": {},
   "outputs": [],
   "source": []
  }
 ],
 "metadata": {
  "colab": {
   "collapsed_sections": [],
   "name": "5_Performance_metrics_Instructions.ipynb",
   "provenance": []
  },
  "kernelspec": {
   "display_name": "Python 3",
   "language": "python",
   "name": "python3"
  },
  "language_info": {
   "codemirror_mode": {
    "name": "ipython",
    "version": 3
   },
   "file_extension": ".py",
   "mimetype": "text/x-python",
   "name": "python",
   "nbconvert_exporter": "python",
   "pygments_lexer": "ipython3",
   "version": "3.6.5"
  }
 },
 "nbformat": 4,
 "nbformat_minor": 1
}
